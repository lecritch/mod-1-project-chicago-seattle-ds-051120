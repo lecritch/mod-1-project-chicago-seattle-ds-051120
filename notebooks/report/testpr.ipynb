{
 "cells": [
  {
   "cell_type": "markdown",
   "metadata": {},
   "source": [
    "# Analysis Part 2:\n",
    "In Part 2 of this analysis, we find an updated estimate on the number of Opportunity Youth in South King County.\n",
    "\n",
    "We will then dive deeper into this population by breaking down the number of Opportunity Youth by puma code, age groups, educational attainment and employment availability. "
   ]
  },
  {
   "cell_type": "code",
   "execution_count": 5,
   "metadata": {},
   "outputs": [
    {
     "name": "stdout",
     "output_type": "stream",
     "text": [
      "The autoreload extension is already loaded. To reload it, use:\n",
      "  %reload_ext autoreload\n"
     ]
    }
   ],
   "source": [
    "%load_ext autoreload\n",
    "%autoreload 2"
   ]
  },
  {
   "cell_type": "code",
   "execution_count": 6,
   "metadata": {},
   "outputs": [],
   "source": [
    "import sys\n",
    "import os\n",
    "\n",
    "module_path = os.path.abspath(os.path.join(os.pardir, os.pardir))\n",
    "if module_path not in sys.path:\n",
    "    sys.path.append(module_path)"
   ]
  },
  {
   "cell_type": "code",
   "execution_count": 7,
   "metadata": {},
   "outputs": [],
   "source": [
    "from src.data_cleaning import data_cleaning as dc"
   ]
  },
  {
   "cell_type": "markdown",
   "metadata": {},
   "source": [
    "### 1. Updated Population Estimate of OY:\n",
    "Using the person weights from the 2017 pums data, we found an updated estimate of the Opportunity Youth in South King County to be 6723."
   ]
  },
  {
   "cell_type": "code",
   "execution_count": null,
   "metadata": {},
   "outputs": [],
   "source": []
  },
  {
   "cell_type": "code",
   "execution_count": null,
   "metadata": {},
   "outputs": [],
   "source": []
  },
  {
   "cell_type": "code",
   "execution_count": null,
   "metadata": {},
   "outputs": [],
   "source": []
  },
  {
   "cell_type": "code",
   "execution_count": null,
   "metadata": {},
   "outputs": [],
   "source": []
  },
  {
   "cell_type": "code",
   "execution_count": null,
   "metadata": {},
   "outputs": [],
   "source": []
  },
  {
   "cell_type": "code",
   "execution_count": null,
   "metadata": {},
   "outputs": [],
   "source": []
  },
  {
   "cell_type": "code",
   "execution_count": null,
   "metadata": {},
   "outputs": [],
   "source": []
  },
  {
   "cell_type": "markdown",
   "metadata": {},
   "source": [
    "### 2. OY Population by PUMA:\n",
    "We can see the breakdown of the OY population by PUMA codes, as per our definition of South King County from Part 1:\n",
    "\n",
    "- PUMA 11612 - King County (Far Southwest): 1977 - 29%\n",
    "\n",
    "- PUMA 11613 - King County (Southwest Central): 2006 - 30%\n",
    "\n",
    "- PUMA 11614 - King County (Southwest): 1530 - 23%\n",
    "\n",
    "- PUMA 11615 - King County (Southeast): 1210 - 18%\n",
    "\n",
    "This distribution of the OY population might lead to further investigations about why the Southwest regions of King County account for 82% of the OY population in South King County.  What are the differentiating factors between Southwest and Southeast King County?  \n",
    "\n",
    "### 3. OY Population by Age Group:\n",
    "We decided to break the OY population into three age groups: 16-18yo, 19-21yo, 22-24yo.  This was so we could make comparisons with the 2016 report as well as being able to capture the potentially unique circumstances of each group.  \n",
    "\n",
    "![pop_ages.png](../../reports/figures/pop_ages.png)\n",
    "\n",
    "From this bar graph, we can see that the population of OY is highest for the 22-24 year olds and lowest for the 16-18 year olds.  This might be a trend we expect to see, since 16-18 years are more likely to still be under the supervison of family members and/or adults and so have more accountability to be in school or working.  \n",
    "\n",
    "Further investigation into the living situations of OY 19 and older might shed light on the factors contributing to their school enrollment and employment status.  \n",
    "\n",
    "### 4. Education Attainment Amongst Opportunity Youth:\n",
    "Since education is one of the definig factors of OY, it seems necessary to investigate the levels of education this population has attained, given that they are not currently in school.  \n",
    "\n",
    "![education_oy.png](../../reports/figures/education_oy.png)\n",
    "\n",
    "Across all ages, 49% of Opportunity Youth had a high school diploma or a GED.  We can see from the figure above that, when broken down by age group, we can see that 55% of 19-21yo and 48% of 22-24yo have achieved a high school diploma or GED whereas 58% of the 16-18yo have not attained a diploma.  This is not too surprising given that people between 16-18 years old are 'school aged', so it is typical to see 16-18yo without a diploma.  Further investigation into these circumstances is necessary.  \n",
    "\n",
    "### 5. Opportunity Youth Looking for Work:\n",
    "As employment is the second defining factor of Opportunity Youth, it is compelling to look into the motivations Opportunity Youth have toward seeking employment.  \n",
    "\n",
    "![oy_lfw.png](../../reports/figures/oy_lfw.png)\n",
    "\n",
    "While 12% of the data was not reported, 56.7% of Opportunity Youth reported 'No' in the survey, in response to the category 'Looking for Work' (80% of which came from ages 19-24).  This sparks the question \"why are Opportunity Youths not looking for work if they are neither in school or working?\".  \n",
    "\n",
    "## Summary\n",
    "Our analysis so far has highlighted the need for further investigation into the education and employment status' of the Opportunity Youth.  \n",
    "\n",
    "Variables such as motivation for seeking education or employment, living circumstances and accountability systems for each age group require further research to gain a deeper understanding of the characteristics defining Opportunity Youth."
   ]
  }
 ],
 "metadata": {
  "kernelspec": {
   "display_name": "Python 3 (oy-env)",
   "language": "python",
   "name": "oy-env"
  },
  "language_info": {
   "codemirror_mode": {
    "name": "ipython",
    "version": 3
   },
   "file_extension": ".py",
   "mimetype": "text/x-python",
   "name": "python",
   "nbconvert_exporter": "python",
   "pygments_lexer": "ipython3",
   "version": "3.8.1"
  }
 },
 "nbformat": 4,
 "nbformat_minor": 4
}
