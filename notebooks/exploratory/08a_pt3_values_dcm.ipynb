{
 "cells": [
  {
   "cell_type": "markdown",
   "metadata": {},
   "source": [
    "**Expand the '...' cell below and run it.  It includes a function which is used to create the skc_df necessary throughout this notebook.**\n",
    "\n",
    "(I've collapsed it simply because it's ugly)"
   ]
  },
  {
   "cell_type": "code",
   "execution_count": 1,
   "metadata": {},
   "outputs": [],
   "source": [
    "def create_skc_df():\n",
    "    # import relevant packages\n",
    "    import psycopg2\n",
    "    import pandas as pd\n",
    "    import numpy as np\n",
    "    import matplotlib.pyplot as plt\n",
    "\n",
    "\n",
    "    # Establish DB:\n",
    "    DBNAME = \"opportunity_youth\"\n",
    "\n",
    "    # Create a connection to db\n",
    "    conn = psycopg2.connect(dbname=DBNAME)\n",
    "    \n",
    "    # define initial skc_df with appropriate age range\n",
    "    def skc_df():\n",
    "    \n",
    "        skc_puma_codes = ['11613', '11614', '11615', '11612']\n",
    "    \n",
    "        QUERY = \"\"\"\n",
    "        SELECT rt AS record_type, serialno AS id, agep AS age, sex, st, pwgtp AS person_weight, puma, sch AS school_enrollment, schl AS education_attained, \n",
    "                esr AS employment_status, nwab AS absent_from_work, nwav AS avail_for_work, nwla AS layoff, nwlk AS look_for_work\n",
    "        FROM pums_2017\n",
    "        WHERE agep BETWEEN 16 AND 24\"\"\"\n",
    "\n",
    "        relevant_ages_pums = pd.read_sql(QUERY, conn)\n",
    "        skc_df = relevant_ages_pums[relevant_ages_pums['puma'].isin(skc_puma_codes)]    \n",
    "\n",
    "        return skc_df\n",
    "    \n",
    "    # Call the above function and assign it to a variable\n",
    "    skc_df = skc_df()\n",
    "    \n",
    "    # Add 2 new columns to skc_df:  \n",
    "    skc_df['age_group'] = 'assign vals'\n",
    "    skc_df['is_oy'] = 'assign bool'\n",
    "    \n",
    "    # Create oy employment/school variables:\n",
    "    oy_employment_status = ['3', '6']\n",
    "    oy_school_enrollment = ['1']\n",
    "    \n",
    "    # Assign values to 'is_oy'\n",
    "    skc_df['is_oy'] = (skc_df['employment_status'].isin(oy_employment_status)) & (skc_df['school_enrollment'].isin(oy_school_enrollment))\n",
    "    \n",
    "    # Create function to categorise age into groups:\n",
    "    def get_age_group(age):\n",
    "        if age in range(16, 19):\n",
    "            return 'Ages 16-18'\n",
    "        elif age in range(19, 22):\n",
    "            return 'Ages 19-21'\n",
    "        else:\n",
    "            return 'Ages 22-24'\n",
    "        \n",
    "    # Assign values to age_group using function above:\n",
    "    skc_df['age_group'] = skc_df['age'].map(get_age_group)\n",
    "    \n",
    "    return skc_df"
   ]
  },
  {
   "cell_type": "markdown",
   "metadata": {
    "jupyter": {
     "source_hidden": true
    }
   },
   "source": [
    "## Table values:\n",
    "\n",
    "In this notebook, I create variables for the values that are necessary to fill in the table for part 3 of the project.  These will also be used for part 4. \n",
    "\n",
    "### Values to create:\n",
    "- [x] Total Pop count and percentage for each age group\n",
    "- [x] OY Pop count and percentage for each age group \n",
    "- [x] Working without diploma count and percentage for each age group \n",
    "- [x] Not an OY count and percentage for each age group \n",
    "- [x] OY, No diploma count and percentage for each age group \n",
    "- [x] OY, Disploma or GED count and percentage for each age group \n",
    "- [x] OY, Some college, no degree count and percentage for each age group \n",
    "- [x] OY, degree count and percentage for each age group "
   ]
  },
  {
   "cell_type": "code",
   "execution_count": 2,
   "metadata": {},
   "outputs": [],
   "source": [
    "skc_df = create_skc_df()"
   ]
  },
  {
   "cell_type": "code",
   "execution_count": 3,
   "metadata": {},
   "outputs": [
    {
     "data": {
      "text/html": [
       "<div>\n",
       "<style scoped>\n",
       "    .dataframe tbody tr th:only-of-type {\n",
       "        vertical-align: middle;\n",
       "    }\n",
       "\n",
       "    .dataframe tbody tr th {\n",
       "        vertical-align: top;\n",
       "    }\n",
       "\n",
       "    .dataframe thead th {\n",
       "        text-align: right;\n",
       "    }\n",
       "</style>\n",
       "<table border=\"1\" class=\"dataframe\">\n",
       "  <thead>\n",
       "    <tr style=\"text-align: right;\">\n",
       "      <th></th>\n",
       "      <th>record_type</th>\n",
       "      <th>id</th>\n",
       "      <th>age</th>\n",
       "      <th>sex</th>\n",
       "      <th>st</th>\n",
       "      <th>person_weight</th>\n",
       "      <th>puma</th>\n",
       "      <th>school_enrollment</th>\n",
       "      <th>education_attained</th>\n",
       "      <th>employment_status</th>\n",
       "      <th>absent_from_work</th>\n",
       "      <th>avail_for_work</th>\n",
       "      <th>layoff</th>\n",
       "      <th>look_for_work</th>\n",
       "      <th>age_group</th>\n",
       "      <th>is_oy</th>\n",
       "    </tr>\n",
       "  </thead>\n",
       "  <tbody>\n",
       "    <tr>\n",
       "      <td>32</td>\n",
       "      <td>P</td>\n",
       "      <td>2013000007063</td>\n",
       "      <td>19.0</td>\n",
       "      <td>1</td>\n",
       "      <td>53</td>\n",
       "      <td>30.0</td>\n",
       "      <td>11612</td>\n",
       "      <td>2</td>\n",
       "      <td>18</td>\n",
       "      <td>6</td>\n",
       "      <td>2</td>\n",
       "      <td>5</td>\n",
       "      <td>2</td>\n",
       "      <td>2</td>\n",
       "      <td>Ages 19-21</td>\n",
       "      <td>False</td>\n",
       "    </tr>\n",
       "    <tr>\n",
       "      <td>36</td>\n",
       "      <td>P</td>\n",
       "      <td>2013000008046</td>\n",
       "      <td>17.0</td>\n",
       "      <td>2</td>\n",
       "      <td>53</td>\n",
       "      <td>36.0</td>\n",
       "      <td>11613</td>\n",
       "      <td>2</td>\n",
       "      <td>13</td>\n",
       "      <td>6</td>\n",
       "      <td>2</td>\n",
       "      <td>5</td>\n",
       "      <td>2</td>\n",
       "      <td>2</td>\n",
       "      <td>Ages 16-18</td>\n",
       "      <td>False</td>\n",
       "    </tr>\n",
       "    <tr>\n",
       "      <td>48</td>\n",
       "      <td>P</td>\n",
       "      <td>2013000011255</td>\n",
       "      <td>17.0</td>\n",
       "      <td>2</td>\n",
       "      <td>53</td>\n",
       "      <td>13.0</td>\n",
       "      <td>11614</td>\n",
       "      <td>2</td>\n",
       "      <td>12</td>\n",
       "      <td>6</td>\n",
       "      <td>2</td>\n",
       "      <td>5</td>\n",
       "      <td>2</td>\n",
       "      <td>2</td>\n",
       "      <td>Ages 16-18</td>\n",
       "      <td>False</td>\n",
       "    </tr>\n",
       "    <tr>\n",
       "      <td>54</td>\n",
       "      <td>P</td>\n",
       "      <td>2013000012970</td>\n",
       "      <td>21.0</td>\n",
       "      <td>2</td>\n",
       "      <td>53</td>\n",
       "      <td>29.0</td>\n",
       "      <td>11612</td>\n",
       "      <td>3</td>\n",
       "      <td>18</td>\n",
       "      <td>6</td>\n",
       "      <td>2</td>\n",
       "      <td>5</td>\n",
       "      <td>2</td>\n",
       "      <td>2</td>\n",
       "      <td>Ages 19-21</td>\n",
       "      <td>False</td>\n",
       "    </tr>\n",
       "    <tr>\n",
       "      <td>57</td>\n",
       "      <td>P</td>\n",
       "      <td>2013000013525</td>\n",
       "      <td>18.0</td>\n",
       "      <td>2</td>\n",
       "      <td>53</td>\n",
       "      <td>24.0</td>\n",
       "      <td>11613</td>\n",
       "      <td>2</td>\n",
       "      <td>15</td>\n",
       "      <td>6</td>\n",
       "      <td>2</td>\n",
       "      <td>5</td>\n",
       "      <td>2</td>\n",
       "      <td>2</td>\n",
       "      <td>Ages 16-18</td>\n",
       "      <td>False</td>\n",
       "    </tr>\n",
       "    <tr>\n",
       "      <td>...</td>\n",
       "      <td>...</td>\n",
       "      <td>...</td>\n",
       "      <td>...</td>\n",
       "      <td>...</td>\n",
       "      <td>...</td>\n",
       "      <td>...</td>\n",
       "      <td>...</td>\n",
       "      <td>...</td>\n",
       "      <td>...</td>\n",
       "      <td>...</td>\n",
       "      <td>...</td>\n",
       "      <td>...</td>\n",
       "      <td>...</td>\n",
       "      <td>...</td>\n",
       "      <td>...</td>\n",
       "      <td>...</td>\n",
       "    </tr>\n",
       "    <tr>\n",
       "      <td>37134</td>\n",
       "      <td>P</td>\n",
       "      <td>2017001386502</td>\n",
       "      <td>18.0</td>\n",
       "      <td>1</td>\n",
       "      <td>53</td>\n",
       "      <td>17.0</td>\n",
       "      <td>11613</td>\n",
       "      <td>1</td>\n",
       "      <td>11</td>\n",
       "      <td>6</td>\n",
       "      <td>3</td>\n",
       "      <td>5</td>\n",
       "      <td>3</td>\n",
       "      <td>3</td>\n",
       "      <td>Ages 16-18</td>\n",
       "      <td>True</td>\n",
       "    </tr>\n",
       "    <tr>\n",
       "      <td>37684</td>\n",
       "      <td>P</td>\n",
       "      <td>2017001464049</td>\n",
       "      <td>21.0</td>\n",
       "      <td>2</td>\n",
       "      <td>53</td>\n",
       "      <td>18.0</td>\n",
       "      <td>11613</td>\n",
       "      <td>1</td>\n",
       "      <td>16</td>\n",
       "      <td>6</td>\n",
       "      <td>3</td>\n",
       "      <td>5</td>\n",
       "      <td>3</td>\n",
       "      <td>3</td>\n",
       "      <td>Ages 19-21</td>\n",
       "      <td>True</td>\n",
       "    </tr>\n",
       "    <tr>\n",
       "      <td>37718</td>\n",
       "      <td>P</td>\n",
       "      <td>2017001470135</td>\n",
       "      <td>23.0</td>\n",
       "      <td>1</td>\n",
       "      <td>53</td>\n",
       "      <td>17.0</td>\n",
       "      <td>11613</td>\n",
       "      <td>1</td>\n",
       "      <td>14</td>\n",
       "      <td>6</td>\n",
       "      <td>3</td>\n",
       "      <td>5</td>\n",
       "      <td>3</td>\n",
       "      <td>3</td>\n",
       "      <td>Ages 22-24</td>\n",
       "      <td>True</td>\n",
       "    </tr>\n",
       "    <tr>\n",
       "      <td>38050</td>\n",
       "      <td>P</td>\n",
       "      <td>2017001518359</td>\n",
       "      <td>18.0</td>\n",
       "      <td>1</td>\n",
       "      <td>53</td>\n",
       "      <td>20.0</td>\n",
       "      <td>11613</td>\n",
       "      <td>1</td>\n",
       "      <td>11</td>\n",
       "      <td>6</td>\n",
       "      <td>3</td>\n",
       "      <td>5</td>\n",
       "      <td>3</td>\n",
       "      <td>3</td>\n",
       "      <td>Ages 16-18</td>\n",
       "      <td>True</td>\n",
       "    </tr>\n",
       "    <tr>\n",
       "      <td>38130</td>\n",
       "      <td>P</td>\n",
       "      <td>2017001530818</td>\n",
       "      <td>23.0</td>\n",
       "      <td>1</td>\n",
       "      <td>53</td>\n",
       "      <td>26.0</td>\n",
       "      <td>11613</td>\n",
       "      <td>1</td>\n",
       "      <td>21</td>\n",
       "      <td>1</td>\n",
       "      <td>2</td>\n",
       "      <td>3</td>\n",
       "      <td>2</td>\n",
       "      <td>2</td>\n",
       "      <td>Ages 22-24</td>\n",
       "      <td>False</td>\n",
       "    </tr>\n",
       "  </tbody>\n",
       "</table>\n",
       "<p>2359 rows × 16 columns</p>\n",
       "</div>"
      ],
      "text/plain": [
       "      record_type             id   age sex  st  person_weight   puma  \\\n",
       "32              P  2013000007063  19.0   1  53           30.0  11612   \n",
       "36              P  2013000008046  17.0   2  53           36.0  11613   \n",
       "48              P  2013000011255  17.0   2  53           13.0  11614   \n",
       "54              P  2013000012970  21.0   2  53           29.0  11612   \n",
       "57              P  2013000013525  18.0   2  53           24.0  11613   \n",
       "...           ...            ...   ...  ..  ..            ...    ...   \n",
       "37134           P  2017001386502  18.0   1  53           17.0  11613   \n",
       "37684           P  2017001464049  21.0   2  53           18.0  11613   \n",
       "37718           P  2017001470135  23.0   1  53           17.0  11613   \n",
       "38050           P  2017001518359  18.0   1  53           20.0  11613   \n",
       "38130           P  2017001530818  23.0   1  53           26.0  11613   \n",
       "\n",
       "      school_enrollment education_attained employment_status absent_from_work  \\\n",
       "32                    2                 18                 6                2   \n",
       "36                    2                 13                 6                2   \n",
       "48                    2                 12                 6                2   \n",
       "54                    3                 18                 6                2   \n",
       "57                    2                 15                 6                2   \n",
       "...                 ...                ...               ...              ...   \n",
       "37134                 1                 11                 6                3   \n",
       "37684                 1                 16                 6                3   \n",
       "37718                 1                 14                 6                3   \n",
       "38050                 1                 11                 6                3   \n",
       "38130                 1                 21                 1                2   \n",
       "\n",
       "      avail_for_work layoff look_for_work   age_group  is_oy  \n",
       "32                 5      2             2  Ages 19-21  False  \n",
       "36                 5      2             2  Ages 16-18  False  \n",
       "48                 5      2             2  Ages 16-18  False  \n",
       "54                 5      2             2  Ages 19-21  False  \n",
       "57                 5      2             2  Ages 16-18  False  \n",
       "...              ...    ...           ...         ...    ...  \n",
       "37134              5      3             3  Ages 16-18   True  \n",
       "37684              5      3             3  Ages 19-21   True  \n",
       "37718              5      3             3  Ages 22-24   True  \n",
       "38050              5      3             3  Ages 16-18   True  \n",
       "38130              3      2             2  Ages 22-24  False  \n",
       "\n",
       "[2359 rows x 16 columns]"
      ]
     },
     "execution_count": 3,
     "metadata": {},
     "output_type": "execute_result"
    }
   ],
   "source": [
    "skc_df"
   ]
  },
  {
   "cell_type": "markdown",
   "metadata": {
    "jupyter": {
     "source_hidden": true
    }
   },
   "source": [
    "## Values for Top Half of Table \"Total Population\":"
   ]
  },
  {
   "cell_type": "markdown",
   "metadata": {
    "jupyter": {
     "source_hidden": true
    }
   },
   "source": [
    "### Total Population Row:"
   ]
  },
  {
   "cell_type": "markdown",
   "metadata": {
    "jupyter": {
     "source_hidden": true
    }
   },
   "source": [
    "Make a dataframe to display the population counts:"
   ]
  },
  {
   "cell_type": "code",
   "execution_count": 6,
   "metadata": {},
   "outputs": [
    {
     "data": {
      "text/html": [
       "<div>\n",
       "<style scoped>\n",
       "    .dataframe tbody tr th:only-of-type {\n",
       "        vertical-align: middle;\n",
       "    }\n",
       "\n",
       "    .dataframe tbody tr th {\n",
       "        vertical-align: top;\n",
       "    }\n",
       "\n",
       "    .dataframe thead th {\n",
       "        text-align: right;\n",
       "    }\n",
       "</style>\n",
       "<table border=\"1\" class=\"dataframe\">\n",
       "  <thead>\n",
       "    <tr style=\"text-align: right;\">\n",
       "      <th></th>\n",
       "      <th>population</th>\n",
       "    </tr>\n",
       "    <tr>\n",
       "      <th>age_group</th>\n",
       "      <th></th>\n",
       "    </tr>\n",
       "  </thead>\n",
       "  <tbody>\n",
       "    <tr>\n",
       "      <td>Ages 16-18</td>\n",
       "      <td>20635.0</td>\n",
       "    </tr>\n",
       "    <tr>\n",
       "      <td>Ages 19-21</td>\n",
       "      <td>17702.0</td>\n",
       "    </tr>\n",
       "    <tr>\n",
       "      <td>Ages 22-24</td>\n",
       "      <td>19579.0</td>\n",
       "    </tr>\n",
       "  </tbody>\n",
       "</table>\n",
       "</div>"
      ],
      "text/plain": [
       "            population\n",
       "age_group             \n",
       "Ages 16-18     20635.0\n",
       "Ages 19-21     17702.0\n",
       "Ages 22-24     19579.0"
      ]
     },
     "execution_count": 6,
     "metadata": {},
     "output_type": "execute_result"
    }
   ],
   "source": [
    "tot_pops_df = skc_df.groupby(['age_group']).sum().drop(columns = ['age', 'is_oy'])\n",
    "tot_pops_df.rename(columns = {'person_weight': 'population'}, inplace = True)\n",
    "tot_pops_df"
   ]
  },
  {
   "cell_type": "markdown",
   "metadata": {},
   "source": [
    "Create a variable containing the total population of 16-24yos in SKC:"
   ]
  },
  {
   "cell_type": "code",
   "execution_count": 7,
   "metadata": {},
   "outputs": [
    {
     "data": {
      "text/plain": [
       "population    57916.0\n",
       "dtype: float64"
      ]
     },
     "execution_count": 7,
     "metadata": {},
     "output_type": "execute_result"
    }
   ],
   "source": [
    "tot_pop = tot_pops_df.sum()\n",
    "tot_pop"
   ]
  },
  {
   "cell_type": "markdown",
   "metadata": {},
   "source": [
    "### Opportunity Youth Row:\n",
    "Make a dataframe to display the opportunity youth population counts and percentages:"
   ]
  },
  {
   "cell_type": "code",
   "execution_count": 8,
   "metadata": {},
   "outputs": [
    {
     "data": {
      "text/html": [
       "<div>\n",
       "<style scoped>\n",
       "    .dataframe tbody tr th:only-of-type {\n",
       "        vertical-align: middle;\n",
       "    }\n",
       "\n",
       "    .dataframe tbody tr th {\n",
       "        vertical-align: top;\n",
       "    }\n",
       "\n",
       "    .dataframe thead th {\n",
       "        text-align: right;\n",
       "    }\n",
       "</style>\n",
       "<table border=\"1\" class=\"dataframe\">\n",
       "  <thead>\n",
       "    <tr style=\"text-align: right;\">\n",
       "      <th></th>\n",
       "      <th>population</th>\n",
       "      <th>percentage</th>\n",
       "    </tr>\n",
       "    <tr>\n",
       "      <th>age_group</th>\n",
       "      <th></th>\n",
       "      <th></th>\n",
       "    </tr>\n",
       "  </thead>\n",
       "  <tbody>\n",
       "    <tr>\n",
       "      <td>Ages 16-18</td>\n",
       "      <td>1230.0</td>\n",
       "      <td>6.0</td>\n",
       "    </tr>\n",
       "    <tr>\n",
       "      <td>Ages 19-21</td>\n",
       "      <td>2541.0</td>\n",
       "      <td>14.0</td>\n",
       "    </tr>\n",
       "    <tr>\n",
       "      <td>Ages 22-24</td>\n",
       "      <td>2952.0</td>\n",
       "      <td>15.0</td>\n",
       "    </tr>\n",
       "  </tbody>\n",
       "</table>\n",
       "</div>"
      ],
      "text/plain": [
       "            population  percentage\n",
       "age_group                         \n",
       "Ages 16-18      1230.0         6.0\n",
       "Ages 19-21      2541.0        14.0\n",
       "Ages 22-24      2952.0        15.0"
      ]
     },
     "execution_count": 8,
     "metadata": {},
     "output_type": "execute_result"
    }
   ],
   "source": [
    "oy_pop_df = skc_df[skc_df['is_oy']].groupby(['age_group']).sum().drop(columns = ['age', 'is_oy'])\n",
    "oy_pop_df.rename(columns = {'person_weight': 'population'}, inplace = True)\n",
    "oy_pop_df['percentage'] = round(oy_pop_df['population'] / tot_pops_df['population'] * 100)\n",
    "oy_pop_df"
   ]
  },
  {
   "cell_type": "code",
   "execution_count": 136,
   "metadata": {
    "collapsed": true,
    "jupyter": {
     "outputs_hidden": true,
     "source_hidden": true
    }
   },
   "outputs": [
    {
     "data": {
      "text/plain": [
       "6723.0"
      ]
     },
     "execution_count": 136,
     "metadata": {},
     "output_type": "execute_result"
    }
   ],
   "source": [
    "oy_tot_pop = oy_pop_df['population'].sum()\n",
    "oy_tot_pop"
   ]
  },
  {
   "cell_type": "code",
   "execution_count": 9,
   "metadata": {},
   "outputs": [
    {
     "data": {
      "text/plain": [
       "<BarContainer object of 3 artists>"
      ]
     },
     "execution_count": 9,
     "metadata": {},
     "output_type": "execute_result"
    },
    {
     "data": {
      "image/png": "[encoded data removed]",
      "text/plain": [
       "<Figure size 432x288 with 1 Axes>"
      ]
     },
     "metadata": {
      "needs_background": "light"
     },
     "output_type": "display_data"
    }
   ],
   "source": [
    "import matplotlib.pyplot as plt\n",
    "fig, ax= plt.subplots()\n",
    "ax.bar(x=oy_pop_df.index, height= oy_pop_df['population'], color = 'green')"
   ]
  },
  {
   "cell_type": "markdown",
   "metadata": {
    "jupyter": {
     "source_hidden": true
    }
   },
   "source": [
    "### Working without diploma row:\n",
    "\n",
    "Make a dataframe to display the opportunity youth population countrs and percentages:"
   ]
  },
  {
   "cell_type": "code",
   "execution_count": 185,
   "metadata": {
    "collapsed": true,
    "jupyter": {
     "outputs_hidden": true,
     "source_hidden": true
    }
   },
   "outputs": [
    {
     "data": {
      "text/html": [
       "<div>\n",
       "<style scoped>\n",
       "    .dataframe tbody tr th:only-of-type {\n",
       "        vertical-align: middle;\n",
       "    }\n",
       "\n",
       "    .dataframe tbody tr th {\n",
       "        vertical-align: top;\n",
       "    }\n",
       "\n",
       "    .dataframe thead th {\n",
       "        text-align: right;\n",
       "    }\n",
       "</style>\n",
       "<table border=\"1\" class=\"dataframe\">\n",
       "  <thead>\n",
       "    <tr style=\"text-align: right;\">\n",
       "      <th></th>\n",
       "      <th>population</th>\n",
       "    </tr>\n",
       "    <tr>\n",
       "      <th>age_group</th>\n",
       "      <th></th>\n",
       "    </tr>\n",
       "  </thead>\n",
       "  <tbody>\n",
       "    <tr>\n",
       "      <td>Ages 16-18</td>\n",
       "      <td>194.0</td>\n",
       "    </tr>\n",
       "    <tr>\n",
       "      <td>Ages 19-21</td>\n",
       "      <td>278.0</td>\n",
       "    </tr>\n",
       "    <tr>\n",
       "      <td>Ages 22-24</td>\n",
       "      <td>373.0</td>\n",
       "    </tr>\n",
       "  </tbody>\n",
       "</table>\n",
       "</div>"
      ],
      "text/plain": [
       "            population\n",
       "age_group             \n",
       "Ages 16-18       194.0\n",
       "Ages 19-21       278.0\n",
       "Ages 22-24       373.0"
      ]
     },
     "execution_count": 185,
     "metadata": {},
     "output_type": "execute_result"
    }
   ],
   "source": [
    "work_no_dip = skc_df[(skc_df['employment_status'].isin(['1', '2', '4', '5'])) & (skc_df['education_attained'] == '15')].groupby(['age_group']).sum().drop(columns = ['age', 'is_oy'])\n",
    "work_no_dip.rename(columns = {'person_weight': 'population'}, inplace = True)\n",
    "#work_no_dip['percentage'] = round(work_no_dip['population'] / tot_pops_df['population'] * 100)\n",
    "work_no_dip"
   ]
  },
  {
   "cell_type": "code",
   "execution_count": 140,
   "metadata": {
    "collapsed": true,
    "jupyter": {
     "outputs_hidden": true,
     "source_hidden": true
    }
   },
   "outputs": [
    {
     "data": {
      "text/plain": [
       "845.0"
      ]
     },
     "execution_count": 140,
     "metadata": {},
     "output_type": "execute_result"
    }
   ],
   "source": [
    "work_no_dip_tot = work_no_dip['population'].sum()\n",
    "work_no_dip_tot"
   ]
  },
  {
   "cell_type": "markdown",
   "metadata": {
    "jupyter": {
     "source_hidden": true
    }
   },
   "source": [
    "### Not OY row:\n",
    "\n",
    "Make a dataframe to display the non-opportunity youth population countrs and percentages:"
   ]
  },
  {
   "cell_type": "code",
   "execution_count": 141,
   "metadata": {
    "collapsed": true,
    "jupyter": {
     "outputs_hidden": true,
     "source_hidden": true
    }
   },
   "outputs": [
    {
     "data": {
      "text/html": [
       "<div>\n",
       "<style scoped>\n",
       "    .dataframe tbody tr th:only-of-type {\n",
       "        vertical-align: middle;\n",
       "    }\n",
       "\n",
       "    .dataframe tbody tr th {\n",
       "        vertical-align: top;\n",
       "    }\n",
       "\n",
       "    .dataframe thead th {\n",
       "        text-align: right;\n",
       "    }\n",
       "</style>\n",
       "<table border=\"1\" class=\"dataframe\">\n",
       "  <thead>\n",
       "    <tr style=\"text-align: right;\">\n",
       "      <th></th>\n",
       "      <th>population</th>\n",
       "      <th>percentage</th>\n",
       "    </tr>\n",
       "    <tr>\n",
       "      <th>age_group</th>\n",
       "      <th></th>\n",
       "      <th></th>\n",
       "    </tr>\n",
       "  </thead>\n",
       "  <tbody>\n",
       "    <tr>\n",
       "      <td>Ages 16-18</td>\n",
       "      <td>19405.0</td>\n",
       "      <td>94.0</td>\n",
       "    </tr>\n",
       "    <tr>\n",
       "      <td>Ages 19-21</td>\n",
       "      <td>15161.0</td>\n",
       "      <td>86.0</td>\n",
       "    </tr>\n",
       "    <tr>\n",
       "      <td>Ages 22-24</td>\n",
       "      <td>16627.0</td>\n",
       "      <td>85.0</td>\n",
       "    </tr>\n",
       "  </tbody>\n",
       "</table>\n",
       "</div>"
      ],
      "text/plain": [
       "            population  percentage\n",
       "age_group                         \n",
       "Ages 16-18     19405.0        94.0\n",
       "Ages 19-21     15161.0        86.0\n",
       "Ages 22-24     16627.0        85.0"
      ]
     },
     "execution_count": 141,
     "metadata": {},
     "output_type": "execute_result"
    }
   ],
   "source": [
    "noy_pop_df = skc_df[skc_df['is_oy'] == False].groupby(['age_group']).sum().drop(columns = ['age', 'is_oy'])\n",
    "noy_pop_df.rename(columns = {'person_weight': 'population'}, inplace = True)\n",
    "noy_pop_df['percentage'] = round(noy_pop_df['population'] / tot_pops_df['population'] * 100)\n",
    "noy_pop_df"
   ]
  },
  {
   "cell_type": "code",
   "execution_count": 142,
   "metadata": {
    "collapsed": true,
    "jupyter": {
     "outputs_hidden": true,
     "source_hidden": true
    }
   },
   "outputs": [
    {
     "data": {
      "text/plain": [
       "51193.0"
      ]
     },
     "execution_count": 142,
     "metadata": {},
     "output_type": "execute_result"
    }
   ],
   "source": [
    "noy_tot_pop = noy_pop_df['population'].sum()\n",
    "noy_tot_pop"
   ]
  },
  {
   "cell_type": "markdown",
   "metadata": {
    "jupyter": {
     "source_hidden": true
    }
   },
   "source": [
    "## Values for Bottom Half of Table \"Opportunity Youth\":"
   ]
  },
  {
   "cell_type": "markdown",
   "metadata": {
    "jupyter": {
     "source_hidden": true
    }
   },
   "source": [
    "### Opportunity Youth Row:\n",
    "Make a dataframe to display the opportunity youth population counts and percentages:"
   ]
  },
  {
   "cell_type": "code",
   "execution_count": 143,
   "metadata": {
    "collapsed": true,
    "jupyter": {
     "outputs_hidden": true,
     "source_hidden": true
    }
   },
   "outputs": [
    {
     "data": {
      "text/html": [
       "<div>\n",
       "<style scoped>\n",
       "    .dataframe tbody tr th:only-of-type {\n",
       "        vertical-align: middle;\n",
       "    }\n",
       "\n",
       "    .dataframe tbody tr th {\n",
       "        vertical-align: top;\n",
       "    }\n",
       "\n",
       "    .dataframe thead th {\n",
       "        text-align: right;\n",
       "    }\n",
       "</style>\n",
       "<table border=\"1\" class=\"dataframe\">\n",
       "  <thead>\n",
       "    <tr style=\"text-align: right;\">\n",
       "      <th></th>\n",
       "      <th>population</th>\n",
       "      <th>percentage</th>\n",
       "    </tr>\n",
       "    <tr>\n",
       "      <th>age_group</th>\n",
       "      <th></th>\n",
       "      <th></th>\n",
       "    </tr>\n",
       "  </thead>\n",
       "  <tbody>\n",
       "    <tr>\n",
       "      <td>Ages 16-18</td>\n",
       "      <td>1230.0</td>\n",
       "      <td>6.0</td>\n",
       "    </tr>\n",
       "    <tr>\n",
       "      <td>Ages 19-21</td>\n",
       "      <td>2541.0</td>\n",
       "      <td>14.0</td>\n",
       "    </tr>\n",
       "    <tr>\n",
       "      <td>Ages 22-24</td>\n",
       "      <td>2952.0</td>\n",
       "      <td>15.0</td>\n",
       "    </tr>\n",
       "  </tbody>\n",
       "</table>\n",
       "</div>"
      ],
      "text/plain": [
       "            population  percentage\n",
       "age_group                         \n",
       "Ages 16-18      1230.0         6.0\n",
       "Ages 19-21      2541.0        14.0\n",
       "Ages 22-24      2952.0        15.0"
      ]
     },
     "execution_count": 143,
     "metadata": {},
     "output_type": "execute_result"
    }
   ],
   "source": [
    "oy_pop_df"
   ]
  },
  {
   "cell_type": "code",
   "execution_count": 144,
   "metadata": {
    "collapsed": true,
    "jupyter": {
     "outputs_hidden": true,
     "source_hidden": true
    }
   },
   "outputs": [
    {
     "data": {
      "text/plain": [
       "6723.0"
      ]
     },
     "execution_count": 144,
     "metadata": {},
     "output_type": "execute_result"
    }
   ],
   "source": [
    "oy_tot_pop"
   ]
  },
  {
   "cell_type": "markdown",
   "metadata": {
    "jupyter": {
     "source_hidden": true
    }
   },
   "source": [
    "### No Diploma Row:\n",
    "Make a dataframe to display the opportunity youth population **with no diploma** counts and percentages:"
   ]
  },
  {
   "cell_type": "code",
   "execution_count": 145,
   "metadata": {
    "collapsed": true,
    "jupyter": {
     "outputs_hidden": true,
     "source_hidden": true
    }
   },
   "outputs": [
    {
     "data": {
      "text/html": [
       "<div>\n",
       "<style scoped>\n",
       "    .dataframe tbody tr th:only-of-type {\n",
       "        vertical-align: middle;\n",
       "    }\n",
       "\n",
       "    .dataframe tbody tr th {\n",
       "        vertical-align: top;\n",
       "    }\n",
       "\n",
       "    .dataframe thead th {\n",
       "        text-align: right;\n",
       "    }\n",
       "</style>\n",
       "<table border=\"1\" class=\"dataframe\">\n",
       "  <thead>\n",
       "    <tr style=\"text-align: right;\">\n",
       "      <th></th>\n",
       "      <th>population</th>\n",
       "      <th>percentage</th>\n",
       "    </tr>\n",
       "    <tr>\n",
       "      <th>age_group</th>\n",
       "      <th></th>\n",
       "      <th></th>\n",
       "    </tr>\n",
       "  </thead>\n",
       "  <tbody>\n",
       "    <tr>\n",
       "      <td>Ages 16-18</td>\n",
       "      <td>690.0</td>\n",
       "      <td>56.0</td>\n",
       "    </tr>\n",
       "    <tr>\n",
       "      <td>Ages 19-21</td>\n",
       "      <td>714.0</td>\n",
       "      <td>28.0</td>\n",
       "    </tr>\n",
       "    <tr>\n",
       "      <td>Ages 22-24</td>\n",
       "      <td>481.0</td>\n",
       "      <td>16.0</td>\n",
       "    </tr>\n",
       "  </tbody>\n",
       "</table>\n",
       "</div>"
      ],
      "text/plain": [
       "            population  percentage\n",
       "age_group                         \n",
       "Ages 16-18       690.0        56.0\n",
       "Ages 19-21       714.0        28.0\n",
       "Ages 22-24       481.0        16.0"
      ]
     },
     "execution_count": 145,
     "metadata": {},
     "output_type": "execute_result"
    }
   ],
   "source": [
    "# no diploma education categories:\n",
    "no_dips = list(map(str, range(1, 16)))\n",
    "\n",
    "no_dip_df = skc_df[(skc_df['is_oy']) & (skc_df['education_attained'].isin(no_dips))].groupby(['age_group']).sum().drop(columns = ['age', 'is_oy'])\n",
    "no_dip_df.rename(columns = {'person_weight': 'population'}, inplace = True)\n",
    "no_dip_df['percentage'] = round(no_dip_df['population'] / oy_pop_df['population'] * 100)\n",
    "no_dip_df"
   ]
  },
  {
   "cell_type": "code",
   "execution_count": 146,
   "metadata": {
    "collapsed": true,
    "jupyter": {
     "outputs_hidden": true,
     "source_hidden": true
    }
   },
   "outputs": [
    {
     "data": {
      "text/plain": [
       "1885.0"
      ]
     },
     "execution_count": 146,
     "metadata": {},
     "output_type": "execute_result"
    }
   ],
   "source": [
    "no_dip_tot_pop = no_dip_df['population'].sum()\n",
    "no_dip_tot_pop"
   ]
  },
  {
   "cell_type": "markdown",
   "metadata": {
    "jupyter": {
     "source_hidden": true
    }
   },
   "source": [
    "### HS Diploma or GED Row:\n",
    "Make a dataframe to display the opportunity youth population **with diploma OR GED** counts and percentages:"
   ]
  },
  {
   "cell_type": "code",
   "execution_count": 186,
   "metadata": {
    "collapsed": true,
    "jupyter": {
     "outputs_hidden": true,
     "source_hidden": true
    }
   },
   "outputs": [
    {
     "data": {
      "text/html": [
       "<div>\n",
       "<style scoped>\n",
       "    .dataframe tbody tr th:only-of-type {\n",
       "        vertical-align: middle;\n",
       "    }\n",
       "\n",
       "    .dataframe tbody tr th {\n",
       "        vertical-align: top;\n",
       "    }\n",
       "\n",
       "    .dataframe thead th {\n",
       "        text-align: right;\n",
       "    }\n",
       "</style>\n",
       "<table border=\"1\" class=\"dataframe\">\n",
       "  <thead>\n",
       "    <tr style=\"text-align: right;\">\n",
       "      <th></th>\n",
       "      <th>population</th>\n",
       "      <th>percentage</th>\n",
       "    </tr>\n",
       "    <tr>\n",
       "      <th>age_group</th>\n",
       "      <th></th>\n",
       "      <th></th>\n",
       "    </tr>\n",
       "  </thead>\n",
       "  <tbody>\n",
       "    <tr>\n",
       "      <td>Ages 16-18</td>\n",
       "      <td>495.0</td>\n",
       "      <td>40.0</td>\n",
       "    </tr>\n",
       "    <tr>\n",
       "      <td>Ages 19-21</td>\n",
       "      <td>1405.0</td>\n",
       "      <td>55.0</td>\n",
       "    </tr>\n",
       "    <tr>\n",
       "      <td>Ages 22-24</td>\n",
       "      <td>1423.0</td>\n",
       "      <td>48.0</td>\n",
       "    </tr>\n",
       "  </tbody>\n",
       "</table>\n",
       "</div>"
      ],
      "text/plain": [
       "            population  percentage\n",
       "age_group                         \n",
       "Ages 16-18       495.0        40.0\n",
       "Ages 19-21      1405.0        55.0\n",
       "Ages 22-24      1423.0        48.0"
      ]
     },
     "execution_count": 186,
     "metadata": {},
     "output_type": "execute_result"
    }
   ],
   "source": [
    "#  Here I have included categoies '18' and '19', making the assumption that people who have completed some college must have a diploma or GED\n",
    "# As it stands, I'm keeping 18/19 out as it skews the numbers... \n",
    "# When I include 18, 19, ages 16-18 add to 100% but the rest go over 100%\n",
    "#  When i don't include, the total percentages are 98%, 98% and 95% respectively for each age group... \n",
    "#  Need to make a decision as what to use\n",
    "dip_ged = list(map(str, range(16, 18)))\n",
    "\n",
    "ged_df = skc_df[(skc_df['is_oy']) & (skc_df['education_attained'].isin(dip_ged))].groupby(['age_group']).sum().drop(columns = ['age', 'is_oy'])\n",
    "ged_df.rename(columns = {'person_weight': 'population'}, inplace = True)\n",
    "ged_df['percentage'] = round(ged_df['population'] / oy_pop_df['population'] * 100)\n",
    "ged_df"
   ]
  },
  {
   "cell_type": "code",
   "execution_count": 148,
   "metadata": {
    "collapsed": true,
    "jupyter": {
     "outputs_hidden": true,
     "source_hidden": true
    }
   },
   "outputs": [
    {
     "data": {
      "text/plain": [
       "3323.0"
      ]
     },
     "execution_count": 148,
     "metadata": {},
     "output_type": "execute_result"
    }
   ],
   "source": [
    "ged_tot_pop = ged_df['population'].sum()\n",
    "ged_tot_pop"
   ]
  },
  {
   "cell_type": "markdown",
   "metadata": {
    "jupyter": {
     "source_hidden": true
    }
   },
   "source": [
    "### Some College, No Degree Row:\n",
    "Make a dataframe to display the opportunity youth population **with some college but no degree** counts and percentages:"
   ]
  },
  {
   "cell_type": "code",
   "execution_count": 187,
   "metadata": {
    "collapsed": true,
    "jupyter": {
     "outputs_hidden": true,
     "source_hidden": true
    }
   },
   "outputs": [
    {
     "data": {
      "text/html": [
       "<div>\n",
       "<style scoped>\n",
       "    .dataframe tbody tr th:only-of-type {\n",
       "        vertical-align: middle;\n",
       "    }\n",
       "\n",
       "    .dataframe tbody tr th {\n",
       "        vertical-align: top;\n",
       "    }\n",
       "\n",
       "    .dataframe thead th {\n",
       "        text-align: right;\n",
       "    }\n",
       "</style>\n",
       "<table border=\"1\" class=\"dataframe\">\n",
       "  <thead>\n",
       "    <tr style=\"text-align: right;\">\n",
       "      <th></th>\n",
       "      <th>population</th>\n",
       "      <th>percentage</th>\n",
       "    </tr>\n",
       "    <tr>\n",
       "      <th>age_group</th>\n",
       "      <th></th>\n",
       "      <th></th>\n",
       "    </tr>\n",
       "  </thead>\n",
       "  <tbody>\n",
       "    <tr>\n",
       "      <td>Ages 16-18</td>\n",
       "      <td>19.0</td>\n",
       "      <td>2.0</td>\n",
       "    </tr>\n",
       "    <tr>\n",
       "      <td>Ages 19-21</td>\n",
       "      <td>295.0</td>\n",
       "      <td>12.0</td>\n",
       "    </tr>\n",
       "    <tr>\n",
       "      <td>Ages 22-24</td>\n",
       "      <td>675.0</td>\n",
       "      <td>23.0</td>\n",
       "    </tr>\n",
       "  </tbody>\n",
       "</table>\n",
       "</div>"
      ],
      "text/plain": [
       "            population  percentage\n",
       "age_group                         \n",
       "Ages 16-18        19.0         2.0\n",
       "Ages 19-21       295.0        12.0\n",
       "Ages 22-24       675.0        23.0"
      ]
     },
     "execution_count": 187,
     "metadata": {},
     "output_type": "execute_result"
    }
   ],
   "source": [
    "c_nodeg_df = skc_df[(skc_df['is_oy']) & (skc_df['education_attained'].isin(['18', '19']))].groupby(['age_group']).sum().drop(columns = ['age', 'is_oy'])\n",
    "c_nodeg_df.rename(columns = {'person_weight': 'population'}, inplace = True)\n",
    "c_nodeg_df['percentage'] = round(c_nodeg_df['population'] / oy_pop_df['population'] * 100)\n",
    "c_nodeg_df"
   ]
  },
  {
   "cell_type": "code",
   "execution_count": 188,
   "metadata": {
    "collapsed": true,
    "jupyter": {
     "outputs_hidden": true,
     "source_hidden": true
    }
   },
   "outputs": [
    {
     "data": {
      "text/plain": [
       "989.0"
      ]
     },
     "execution_count": 188,
     "metadata": {},
     "output_type": "execute_result"
    }
   ],
   "source": [
    "c_nodeg_tot_pop = c_nodeg_df['population'].sum()\n",
    "c_nodeg_tot_pop"
   ]
  },
  {
   "cell_type": "markdown",
   "metadata": {
    "jupyter": {
     "source_hidden": true
    }
   },
   "source": [
    "### Degree (Associates or higher) Row:\n",
    "Make a dataframe to display the opportunity youth population **with an associates degree or higher** counts and percentages:"
   ]
  },
  {
   "cell_type": "code",
   "execution_count": 189,
   "metadata": {
    "collapsed": true,
    "jupyter": {
     "outputs_hidden": true,
     "source_hidden": true
    }
   },
   "outputs": [
    {
     "data": {
      "text/html": [
       "<div>\n",
       "<style scoped>\n",
       "    .dataframe tbody tr th:only-of-type {\n",
       "        vertical-align: middle;\n",
       "    }\n",
       "\n",
       "    .dataframe tbody tr th {\n",
       "        vertical-align: top;\n",
       "    }\n",
       "\n",
       "    .dataframe thead th {\n",
       "        text-align: right;\n",
       "    }\n",
       "</style>\n",
       "<table border=\"1\" class=\"dataframe\">\n",
       "  <thead>\n",
       "    <tr style=\"text-align: right;\">\n",
       "      <th></th>\n",
       "      <th>population</th>\n",
       "      <th>percentage</th>\n",
       "    </tr>\n",
       "    <tr>\n",
       "      <th>age_group</th>\n",
       "      <th></th>\n",
       "      <th></th>\n",
       "    </tr>\n",
       "  </thead>\n",
       "  <tbody>\n",
       "    <tr>\n",
       "      <td>Ages 19-21</td>\n",
       "      <td>69.0</td>\n",
       "      <td>3.0</td>\n",
       "    </tr>\n",
       "    <tr>\n",
       "      <td>Ages 22-24</td>\n",
       "      <td>223.0</td>\n",
       "      <td>8.0</td>\n",
       "    </tr>\n",
       "  </tbody>\n",
       "</table>\n",
       "</div>"
      ],
      "text/plain": [
       "            population  percentage\n",
       "age_group                         \n",
       "Ages 19-21        69.0         3.0\n",
       "Ages 22-24       223.0         8.0"
      ]
     },
     "execution_count": 189,
     "metadata": {},
     "output_type": "execute_result"
    }
   ],
   "source": [
    "# degree education categories:\n",
    "degree = list(map(str, range(20, 25)))\n",
    "\n",
    "degree_df = skc_df[(skc_df['is_oy']) & (skc_df['education_attained'].isin(degree))].groupby(['age_group']).sum().drop(columns = ['age', 'is_oy'])\n",
    "degree_df.rename(columns = {'person_weight': 'population'}, inplace = True)\n",
    "degree_df['percentage'] = round(degree_df['population'] / oy_pop_df['population'] * 100)\n",
    "degree_df"
   ]
  },
  {
   "cell_type": "code",
   "execution_count": 190,
   "metadata": {
    "collapsed": true,
    "jupyter": {
     "outputs_hidden": true,
     "source_hidden": true
    }
   },
   "outputs": [
    {
     "data": {
      "text/plain": [
       "292.0"
      ]
     },
     "execution_count": 190,
     "metadata": {},
     "output_type": "execute_result"
    }
   ],
   "source": [
    "degree_tot_pop = degree_df['population'].sum()\n",
    "degree_tot_pop"
   ]
  },
  {
   "cell_type": "markdown",
   "metadata": {},
   "source": [
    "# OY Education Levels"
   ]
  },
  {
   "cell_type": "code",
   "execution_count": 10,
   "metadata": {},
   "outputs": [
    {
     "data": {
      "text/html": [
       "<div>\n",
       "<style scoped>\n",
       "    .dataframe tbody tr th:only-of-type {\n",
       "        vertical-align: middle;\n",
       "    }\n",
       "\n",
       "    .dataframe tbody tr th {\n",
       "        vertical-align: top;\n",
       "    }\n",
       "\n",
       "    .dataframe thead th {\n",
       "        text-align: right;\n",
       "    }\n",
       "</style>\n",
       "<table border=\"1\" class=\"dataframe\">\n",
       "  <thead>\n",
       "    <tr style=\"text-align: right;\">\n",
       "      <th></th>\n",
       "      <th></th>\n",
       "      <th>population</th>\n",
       "    </tr>\n",
       "    <tr>\n",
       "      <th>age_group</th>\n",
       "      <th>education_attained</th>\n",
       "      <th></th>\n",
       "    </tr>\n",
       "  </thead>\n",
       "  <tbody>\n",
       "    <tr>\n",
       "      <td rowspan=\"8\" valign=\"top\">Ages 16-18</td>\n",
       "      <td>11</td>\n",
       "      <td>37.0</td>\n",
       "    </tr>\n",
       "    <tr>\n",
       "      <td>12</td>\n",
       "      <td>263.0</td>\n",
       "    </tr>\n",
       "    <tr>\n",
       "      <td>13</td>\n",
       "      <td>157.0</td>\n",
       "    </tr>\n",
       "    <tr>\n",
       "      <td>14</td>\n",
       "      <td>120.0</td>\n",
       "    </tr>\n",
       "    <tr>\n",
       "      <td>15</td>\n",
       "      <td>113.0</td>\n",
       "    </tr>\n",
       "    <tr>\n",
       "      <td>16</td>\n",
       "      <td>470.0</td>\n",
       "    </tr>\n",
       "    <tr>\n",
       "      <td>17</td>\n",
       "      <td>25.0</td>\n",
       "    </tr>\n",
       "    <tr>\n",
       "      <td>19</td>\n",
       "      <td>19.0</td>\n",
       "    </tr>\n",
       "    <tr>\n",
       "      <td rowspan=\"10\" valign=\"top\">Ages 19-21</td>\n",
       "      <td>11</td>\n",
       "      <td>22.0</td>\n",
       "    </tr>\n",
       "    <tr>\n",
       "      <td>12</td>\n",
       "      <td>93.0</td>\n",
       "    </tr>\n",
       "    <tr>\n",
       "      <td>13</td>\n",
       "      <td>147.0</td>\n",
       "    </tr>\n",
       "    <tr>\n",
       "      <td>14</td>\n",
       "      <td>188.0</td>\n",
       "    </tr>\n",
       "    <tr>\n",
       "      <td>15</td>\n",
       "      <td>264.0</td>\n",
       "    </tr>\n",
       "    <tr>\n",
       "      <td>16</td>\n",
       "      <td>1297.0</td>\n",
       "    </tr>\n",
       "    <tr>\n",
       "      <td>17</td>\n",
       "      <td>108.0</td>\n",
       "    </tr>\n",
       "    <tr>\n",
       "      <td>18</td>\n",
       "      <td>23.0</td>\n",
       "    </tr>\n",
       "    <tr>\n",
       "      <td>19</td>\n",
       "      <td>272.0</td>\n",
       "    </tr>\n",
       "    <tr>\n",
       "      <td>20</td>\n",
       "      <td>69.0</td>\n",
       "    </tr>\n",
       "    <tr>\n",
       "      <td rowspan=\"12\" valign=\"top\">Ages 22-24</td>\n",
       "      <td>11</td>\n",
       "      <td>98.0</td>\n",
       "    </tr>\n",
       "    <tr>\n",
       "      <td>12</td>\n",
       "      <td>112.0</td>\n",
       "    </tr>\n",
       "    <tr>\n",
       "      <td>13</td>\n",
       "      <td>61.0</td>\n",
       "    </tr>\n",
       "    <tr>\n",
       "      <td>14</td>\n",
       "      <td>63.0</td>\n",
       "    </tr>\n",
       "    <tr>\n",
       "      <td>15</td>\n",
       "      <td>147.0</td>\n",
       "    </tr>\n",
       "    <tr>\n",
       "      <td>16</td>\n",
       "      <td>1233.0</td>\n",
       "    </tr>\n",
       "    <tr>\n",
       "      <td>17</td>\n",
       "      <td>190.0</td>\n",
       "    </tr>\n",
       "    <tr>\n",
       "      <td>18</td>\n",
       "      <td>358.0</td>\n",
       "    </tr>\n",
       "    <tr>\n",
       "      <td>19</td>\n",
       "      <td>317.0</td>\n",
       "    </tr>\n",
       "    <tr>\n",
       "      <td>20</td>\n",
       "      <td>65.0</td>\n",
       "    </tr>\n",
       "    <tr>\n",
       "      <td>21</td>\n",
       "      <td>137.0</td>\n",
       "    </tr>\n",
       "    <tr>\n",
       "      <td>22</td>\n",
       "      <td>21.0</td>\n",
       "    </tr>\n",
       "  </tbody>\n",
       "</table>\n",
       "</div>"
      ],
      "text/plain": [
       "                               population\n",
       "age_group  education_attained            \n",
       "Ages 16-18 11                        37.0\n",
       "           12                       263.0\n",
       "           13                       157.0\n",
       "           14                       120.0\n",
       "           15                       113.0\n",
       "           16                       470.0\n",
       "           17                        25.0\n",
       "           19                        19.0\n",
       "Ages 19-21 11                        22.0\n",
       "           12                        93.0\n",
       "           13                       147.0\n",
       "           14                       188.0\n",
       "           15                       264.0\n",
       "           16                      1297.0\n",
       "           17                       108.0\n",
       "           18                        23.0\n",
       "           19                       272.0\n",
       "           20                        69.0\n",
       "Ages 22-24 11                        98.0\n",
       "           12                       112.0\n",
       "           13                        61.0\n",
       "           14                        63.0\n",
       "           15                       147.0\n",
       "           16                      1233.0\n",
       "           17                       190.0\n",
       "           18                       358.0\n",
       "           19                       317.0\n",
       "           20                        65.0\n",
       "           21                       137.0\n",
       "           22                        21.0"
      ]
     },
     "execution_count": 10,
     "metadata": {},
     "output_type": "execute_result"
    }
   ],
   "source": [
    "schl = list(map(str, range(1,25)))\n",
    "oy_schl_mask = (skc_df['is_oy']) & (skc_df['education_attained'].isin(schl))\n",
    "oy_schl_df = skc_df[oy_schl_mask].groupby(['age_group', 'education_attained']).sum().drop(columns = ['age', 'is_oy'])\n",
    "\n",
    "oy_schl_df.rename(columns = {'person_weight': 'population'}, inplace = True)\n",
    "#oy_schl_df['percentage'] = round(oy_schl_df['population'] / oy_pop_df['population'] * 100)\n",
    "oy_schl_df"
   ]
  },
  {
   "cell_type": "code",
   "execution_count": 14,
   "metadata": {},
   "outputs": [
    {
     "data": {
      "image/png": "[encoded data removed]",
      "text/plain": [
       "<Figure size 720x720 with 3 Axes>"
      ]
     },
     "metadata": {
      "needs_background": "light"
     },
     "output_type": "display_data"
    }
   ],
   "source": [
    "oy_schl_levels = oy_schl_df.index.levels[0]\n",
    "\n",
    "fig, axes= plt.subplots(len(oy_schl_levels), figsize=(10,10))\n",
    "for level, ax in zip(oy_schl_levels, axes):\n",
    "    oy_schl_df.loc[level].plot(kind= 'bar', ax=ax, title=str(level))\n",
    "plt.tight_layout()"
   ]
  },
  {
   "cell_type": "markdown",
   "metadata": {},
   "source": [
    "# OY Employment information\n",
    "1, 2, 4, 5= employed, 3 = unemployed, 6 = not in labor force (never worked)"
   ]
  },
  {
   "cell_type": "code",
   "execution_count": 15,
   "metadata": {},
   "outputs": [
    {
     "data": {
      "text/html": [
       "<div>\n",
       "<style scoped>\n",
       "    .dataframe tbody tr th:only-of-type {\n",
       "        vertical-align: middle;\n",
       "    }\n",
       "\n",
       "    .dataframe tbody tr th {\n",
       "        vertical-align: top;\n",
       "    }\n",
       "\n",
       "    .dataframe thead th {\n",
       "        text-align: right;\n",
       "    }\n",
       "</style>\n",
       "<table border=\"1\" class=\"dataframe\">\n",
       "  <thead>\n",
       "    <tr style=\"text-align: right;\">\n",
       "      <th></th>\n",
       "      <th></th>\n",
       "      <th>population</th>\n",
       "    </tr>\n",
       "    <tr>\n",
       "      <th>age_group</th>\n",
       "      <th>employment_status</th>\n",
       "      <th></th>\n",
       "    </tr>\n",
       "  </thead>\n",
       "  <tbody>\n",
       "    <tr>\n",
       "      <td rowspan=\"2\" valign=\"top\">Ages 16-18</td>\n",
       "      <td>3</td>\n",
       "      <td>340.0</td>\n",
       "    </tr>\n",
       "    <tr>\n",
       "      <td>6</td>\n",
       "      <td>890.0</td>\n",
       "    </tr>\n",
       "    <tr>\n",
       "      <td rowspan=\"2\" valign=\"top\">Ages 19-21</td>\n",
       "      <td>3</td>\n",
       "      <td>741.0</td>\n",
       "    </tr>\n",
       "    <tr>\n",
       "      <td>6</td>\n",
       "      <td>1800.0</td>\n",
       "    </tr>\n",
       "    <tr>\n",
       "      <td rowspan=\"2\" valign=\"top\">Ages 22-24</td>\n",
       "      <td>3</td>\n",
       "      <td>1169.0</td>\n",
       "    </tr>\n",
       "    <tr>\n",
       "      <td>6</td>\n",
       "      <td>1783.0</td>\n",
       "    </tr>\n",
       "  </tbody>\n",
       "</table>\n",
       "</div>"
      ],
      "text/plain": [
       "                              population\n",
       "age_group  employment_status            \n",
       "Ages 16-18 3                       340.0\n",
       "           6                       890.0\n",
       "Ages 19-21 3                       741.0\n",
       "           6                      1800.0\n",
       "Ages 22-24 3                      1169.0\n",
       "           6                      1783.0"
      ]
     },
     "execution_count": 15,
     "metadata": {},
     "output_type": "execute_result"
    }
   ],
   "source": [
    "# unemployed v not in labor force:\n",
    "oy_esr_mask = (skc_df['is_oy']) & (skc_df['employment_status'].isin(['1', '2', '3','4', '5','6']))\n",
    "oy_esr_df = skc_df[oy_esr_mask].groupby(['age_group', 'employment_status']).sum().drop(columns = ['age', 'is_oy'])\n",
    "oy_esr_df.rename(columns = {'person_weight': 'population'}, inplace = True)\n",
    "oy_esr_df"
   ]
  },
  {
   "cell_type": "code",
   "execution_count": 16,
   "metadata": {},
   "outputs": [
    {
     "data": {
      "image/png": "[encoded data removed]",
      "text/plain": [
       "<Figure size 720x720 with 3 Axes>"
      ]
     },
     "metadata": {
      "needs_background": "light"
     },
     "output_type": "display_data"
    }
   ],
   "source": [
    "oy_esr_levels = oy_esr_df.index.levels[0]\n",
    "fig, axes= plt.subplots(len(oy_esr_levels), figsize=(10,10))\n",
    "for level, ax in zip(oy_esr_levels, axes):\n",
    "    oy_esr_df.loc[level].plot(kind= 'bar', ax=ax, title=str(level))\n",
    "plt.tight_layout()"
   ]
  },
  {
   "cell_type": "markdown",
   "metadata": {},
   "source": [
    "### OY Unemployed- Available for work\n",
    "1 = yes\n",
    "2 - 4 = no\n",
    "5 = not reported"
   ]
  },
  {
   "cell_type": "code",
   "execution_count": 17,
   "metadata": {},
   "outputs": [
    {
     "data": {
      "text/html": [
       "<div>\n",
       "<style scoped>\n",
       "    .dataframe tbody tr th:only-of-type {\n",
       "        vertical-align: middle;\n",
       "    }\n",
       "\n",
       "    .dataframe tbody tr th {\n",
       "        vertical-align: top;\n",
       "    }\n",
       "\n",
       "    .dataframe thead th {\n",
       "        text-align: right;\n",
       "    }\n",
       "</style>\n",
       "<table border=\"1\" class=\"dataframe\">\n",
       "  <thead>\n",
       "    <tr style=\"text-align: right;\">\n",
       "      <th></th>\n",
       "      <th></th>\n",
       "      <th>population</th>\n",
       "    </tr>\n",
       "    <tr>\n",
       "      <th>age_group</th>\n",
       "      <th>avail_for_work</th>\n",
       "      <th></th>\n",
       "    </tr>\n",
       "  </thead>\n",
       "  <tbody>\n",
       "    <tr>\n",
       "      <td rowspan=\"3\" valign=\"top\">Ages 16-18</td>\n",
       "      <td>1</td>\n",
       "      <td>308.0</td>\n",
       "    </tr>\n",
       "    <tr>\n",
       "      <td>3</td>\n",
       "      <td>84.0</td>\n",
       "    </tr>\n",
       "    <tr>\n",
       "      <td>5</td>\n",
       "      <td>838.0</td>\n",
       "    </tr>\n",
       "    <tr>\n",
       "      <td rowspan=\"3\" valign=\"top\">Ages 19-21</td>\n",
       "      <td>1</td>\n",
       "      <td>758.0</td>\n",
       "    </tr>\n",
       "    <tr>\n",
       "      <td>3</td>\n",
       "      <td>99.0</td>\n",
       "    </tr>\n",
       "    <tr>\n",
       "      <td>5</td>\n",
       "      <td>1684.0</td>\n",
       "    </tr>\n",
       "    <tr>\n",
       "      <td rowspan=\"4\" valign=\"top\">Ages 22-24</td>\n",
       "      <td>1</td>\n",
       "      <td>1017.0</td>\n",
       "    </tr>\n",
       "    <tr>\n",
       "      <td>2</td>\n",
       "      <td>30.0</td>\n",
       "    </tr>\n",
       "    <tr>\n",
       "      <td>3</td>\n",
       "      <td>64.0</td>\n",
       "    </tr>\n",
       "    <tr>\n",
       "      <td>5</td>\n",
       "      <td>1841.0</td>\n",
       "    </tr>\n",
       "  </tbody>\n",
       "</table>\n",
       "</div>"
      ],
      "text/plain": [
       "                           population\n",
       "age_group  avail_for_work            \n",
       "Ages 16-18 1                    308.0\n",
       "           3                     84.0\n",
       "           5                    838.0\n",
       "Ages 19-21 1                    758.0\n",
       "           3                     99.0\n",
       "           5                   1684.0\n",
       "Ages 22-24 1                   1017.0\n",
       "           2                     30.0\n",
       "           3                     64.0\n",
       "           5                   1841.0"
      ]
     },
     "execution_count": 17,
     "metadata": {},
     "output_type": "execute_result"
    }
   ],
   "source": [
    "# available for work:\n",
    "oy_nwav_mask=(skc_df['is_oy']) & (skc_df['avail_for_work'].isin(['1', '2', '3', '4', '5']))\n",
    "oy_nwav_df = skc_df[oy_nwav_mask].groupby(['age_group', 'avail_for_work']).sum().drop(columns = ['age', 'is_oy'])\n",
    "oy_nwav_df.rename(columns = {'person_weight': 'population'}, inplace = True)\n",
    "oy_nwav_df"
   ]
  },
  {
   "cell_type": "code",
   "execution_count": 18,
   "metadata": {},
   "outputs": [
    {
     "data": {
      "image/png": "[encoded data removed]",
      "text/plain": [
       "<Figure size 720x720 with 3 Axes>"
      ]
     },
     "metadata": {
      "needs_background": "light"
     },
     "output_type": "display_data"
    }
   ],
   "source": [
    "oy_nwav_levels = oy_nwav_df.index.levels[0]\n",
    "\n",
    "fig, axes= plt.subplots(len(oy_nwav_levels), figsize=(10,10))\n",
    "for level, ax in zip(oy_nwav_levels, axes):\n",
    "    oy_nwav_df.loc[level].plot(kind= 'bar', ax=ax, title=str(level))\n",
    "plt.tight_layout()"
   ]
  },
  {
   "cell_type": "markdown",
   "metadata": {},
   "source": [
    "### OY Unemployed - Looking for work\n",
    "1 = yes\n",
    "2 = no\n",
    "3 = not reported"
   ]
  },
  {
   "cell_type": "code",
   "execution_count": 19,
   "metadata": {},
   "outputs": [
    {
     "data": {
      "text/html": [
       "<div>\n",
       "<style scoped>\n",
       "    .dataframe tbody tr th:only-of-type {\n",
       "        vertical-align: middle;\n",
       "    }\n",
       "\n",
       "    .dataframe tbody tr th {\n",
       "        vertical-align: top;\n",
       "    }\n",
       "\n",
       "    .dataframe thead th {\n",
       "        text-align: right;\n",
       "    }\n",
       "</style>\n",
       "<table border=\"1\" class=\"dataframe\">\n",
       "  <thead>\n",
       "    <tr style=\"text-align: right;\">\n",
       "      <th></th>\n",
       "      <th></th>\n",
       "      <th>population</th>\n",
       "    </tr>\n",
       "    <tr>\n",
       "      <th>age_group</th>\n",
       "      <th>look_for_work</th>\n",
       "      <th></th>\n",
       "    </tr>\n",
       "  </thead>\n",
       "  <tbody>\n",
       "    <tr>\n",
       "      <td rowspan=\"3\" valign=\"top\">Ages 16-18</td>\n",
       "      <td>1</td>\n",
       "      <td>308.0</td>\n",
       "    </tr>\n",
       "    <tr>\n",
       "      <td>2</td>\n",
       "      <td>782.0</td>\n",
       "    </tr>\n",
       "    <tr>\n",
       "      <td>3</td>\n",
       "      <td>140.0</td>\n",
       "    </tr>\n",
       "    <tr>\n",
       "      <td rowspan=\"3\" valign=\"top\">Ages 19-21</td>\n",
       "      <td>1</td>\n",
       "      <td>749.0</td>\n",
       "    </tr>\n",
       "    <tr>\n",
       "      <td>2</td>\n",
       "      <td>1504.0</td>\n",
       "    </tr>\n",
       "    <tr>\n",
       "      <td>3</td>\n",
       "      <td>288.0</td>\n",
       "    </tr>\n",
       "    <tr>\n",
       "      <td rowspan=\"3\" valign=\"top\">Ages 22-24</td>\n",
       "      <td>1</td>\n",
       "      <td>1050.0</td>\n",
       "    </tr>\n",
       "    <tr>\n",
       "      <td>2</td>\n",
       "      <td>1523.0</td>\n",
       "    </tr>\n",
       "    <tr>\n",
       "      <td>3</td>\n",
       "      <td>379.0</td>\n",
       "    </tr>\n",
       "  </tbody>\n",
       "</table>\n",
       "</div>"
      ],
      "text/plain": [
       "                          population\n",
       "age_group  look_for_work            \n",
       "Ages 16-18 1                   308.0\n",
       "           2                   782.0\n",
       "           3                   140.0\n",
       "Ages 19-21 1                   749.0\n",
       "           2                  1504.0\n",
       "           3                   288.0\n",
       "Ages 22-24 1                  1050.0\n",
       "           2                  1523.0\n",
       "           3                   379.0"
      ]
     },
     "execution_count": 19,
     "metadata": {},
     "output_type": "execute_result"
    }
   ],
   "source": [
    "# looking for work:\n",
    "\n",
    "oy_nwlk_mask = (skc_df['is_oy']) & (skc_df['look_for_work'].isin(['1', '2', '3']))\n",
    "\n",
    "oy_nwlk_df = skc_df[oy_nwlk_mask].groupby(['age_group', 'look_for_work']).sum().drop(columns = ['age', 'is_oy'])\n",
    "oy_nwlk_df.rename(columns = {'person_weight': 'population'}, inplace = True)\n",
    "oy_nwlk_df"
   ]
  },
  {
   "cell_type": "code",
   "execution_count": 20,
   "metadata": {},
   "outputs": [
    {
     "data": {
      "image/png": "[encoded data removed]",
      "text/plain": [
       "<Figure size 720x720 with 3 Axes>"
      ]
     },
     "metadata": {
      "needs_background": "light"
     },
     "output_type": "display_data"
    }
   ],
   "source": [
    "oy_nwlk_levels = oy_nwlk_df.index.levels[0]\n",
    "\n",
    "fig, axes= plt.subplots(len(oy_nwlk_levels), figsize=(10,10))\n",
    "for level, ax in zip(oy_nwlk_levels, axes):\n",
    "    oy_nwlk_df.loc[level].plot(kind= 'bar', ax=ax, title=str(level))\n",
    "plt.tight_layout()"
   ]
  },
  {
   "cell_type": "markdown",
   "metadata": {},
   "source": [
    "### OY Unemployed - Layoff\n",
    "1=yes, 2=no, 3=not reported"
   ]
  },
  {
   "cell_type": "code",
   "execution_count": 22,
   "metadata": {},
   "outputs": [
    {
     "data": {
      "text/html": [
       "<div>\n",
       "<style scoped>\n",
       "    .dataframe tbody tr th:only-of-type {\n",
       "        vertical-align: middle;\n",
       "    }\n",
       "\n",
       "    .dataframe tbody tr th {\n",
       "        vertical-align: top;\n",
       "    }\n",
       "\n",
       "    .dataframe thead th {\n",
       "        text-align: right;\n",
       "    }\n",
       "</style>\n",
       "<table border=\"1\" class=\"dataframe\">\n",
       "  <thead>\n",
       "    <tr style=\"text-align: right;\">\n",
       "      <th></th>\n",
       "      <th></th>\n",
       "      <th>population</th>\n",
       "    </tr>\n",
       "    <tr>\n",
       "      <th>age_group</th>\n",
       "      <th>layoff</th>\n",
       "      <th></th>\n",
       "    </tr>\n",
       "  </thead>\n",
       "  <tbody>\n",
       "    <tr>\n",
       "      <td rowspan=\"2\" valign=\"top\">Ages 16-18</td>\n",
       "      <td>2</td>\n",
       "      <td>1061.0</td>\n",
       "    </tr>\n",
       "    <tr>\n",
       "      <td>3</td>\n",
       "      <td>169.0</td>\n",
       "    </tr>\n",
       "    <tr>\n",
       "      <td rowspan=\"3\" valign=\"top\">Ages 19-21</td>\n",
       "      <td>1</td>\n",
       "      <td>155.0</td>\n",
       "    </tr>\n",
       "    <tr>\n",
       "      <td>2</td>\n",
       "      <td>2073.0</td>\n",
       "    </tr>\n",
       "    <tr>\n",
       "      <td>3</td>\n",
       "      <td>313.0</td>\n",
       "    </tr>\n",
       "    <tr>\n",
       "      <td rowspan=\"3\" valign=\"top\">Ages 22-24</td>\n",
       "      <td>1</td>\n",
       "      <td>70.0</td>\n",
       "    </tr>\n",
       "    <tr>\n",
       "      <td>2</td>\n",
       "      <td>2528.0</td>\n",
       "    </tr>\n",
       "    <tr>\n",
       "      <td>3</td>\n",
       "      <td>354.0</td>\n",
       "    </tr>\n",
       "  </tbody>\n",
       "</table>\n",
       "</div>"
      ],
      "text/plain": [
       "                   population\n",
       "age_group  layoff            \n",
       "Ages 16-18 2           1061.0\n",
       "           3            169.0\n",
       "Ages 19-21 1            155.0\n",
       "           2           2073.0\n",
       "           3            313.0\n",
       "Ages 22-24 1             70.0\n",
       "           2           2528.0\n",
       "           3            354.0"
      ]
     },
     "execution_count": 22,
     "metadata": {},
     "output_type": "execute_result"
    }
   ],
   "source": [
    "# layoff from work:\n",
    "oy_nwla_mask = (skc_df['is_oy']) & (skc_df['layoff'].isin(['1', '2', '3']))\n",
    "oy_nwla_df = skc_df[oy_nwla_mask].groupby(['age_group', 'layoff']).sum().drop(columns = ['age', 'is_oy'])\n",
    "oy_nwla_df.rename(columns = {'person_weight': 'population'}, inplace = True)\n",
    "oy_nwla_df"
   ]
  },
  {
   "cell_type": "code",
   "execution_count": 23,
   "metadata": {},
   "outputs": [
    {
     "data": {
      "image/png": "[encoded data removed]",
      "text/plain": [
       "<Figure size 720x720 with 3 Axes>"
      ]
     },
     "metadata": {
      "needs_background": "light"
     },
     "output_type": "display_data"
    }
   ],
   "source": [
    "oy_nwla_levels = oy_nwla_df.index.levels[0]\n",
    "\n",
    "fig, axes= plt.subplots(len(oy_nwla_levels), figsize=(10,10))\n",
    "for level, ax in zip(oy_nwla_levels, axes):\n",
    "    oy_nwla_df.loc[level].plot(kind= 'bar', ax=ax, title=str(level))\n",
    "plt.tight_layout()"
   ]
  },
  {
   "cell_type": "markdown",
   "metadata": {},
   "source": [
    "### Non-OY Unemployment Status"
   ]
  },
  {
   "cell_type": "code",
   "execution_count": 24,
   "metadata": {},
   "outputs": [
    {
     "data": {
      "text/html": [
       "<div>\n",
       "<style scoped>\n",
       "    .dataframe tbody tr th:only-of-type {\n",
       "        vertical-align: middle;\n",
       "    }\n",
       "\n",
       "    .dataframe tbody tr th {\n",
       "        vertical-align: top;\n",
       "    }\n",
       "\n",
       "    .dataframe thead th {\n",
       "        text-align: right;\n",
       "    }\n",
       "</style>\n",
       "<table border=\"1\" class=\"dataframe\">\n",
       "  <thead>\n",
       "    <tr style=\"text-align: right;\">\n",
       "      <th></th>\n",
       "      <th></th>\n",
       "      <th>population</th>\n",
       "    </tr>\n",
       "    <tr>\n",
       "      <th>age_group</th>\n",
       "      <th>employment_status</th>\n",
       "      <th></th>\n",
       "    </tr>\n",
       "  </thead>\n",
       "  <tbody>\n",
       "    <tr>\n",
       "      <td rowspan=\"4\" valign=\"top\">Ages 16-18</td>\n",
       "      <td>1</td>\n",
       "      <td>4805.0</td>\n",
       "    </tr>\n",
       "    <tr>\n",
       "      <td>2</td>\n",
       "      <td>62.0</td>\n",
       "    </tr>\n",
       "    <tr>\n",
       "      <td>3</td>\n",
       "      <td>1246.0</td>\n",
       "    </tr>\n",
       "    <tr>\n",
       "      <td>6</td>\n",
       "      <td>13292.0</td>\n",
       "    </tr>\n",
       "    <tr>\n",
       "      <td rowspan=\"5\" valign=\"top\">Ages 19-21</td>\n",
       "      <td>1</td>\n",
       "      <td>9977.0</td>\n",
       "    </tr>\n",
       "    <tr>\n",
       "      <td>2</td>\n",
       "      <td>452.0</td>\n",
       "    </tr>\n",
       "    <tr>\n",
       "      <td>3</td>\n",
       "      <td>709.0</td>\n",
       "    </tr>\n",
       "    <tr>\n",
       "      <td>4</td>\n",
       "      <td>27.0</td>\n",
       "    </tr>\n",
       "    <tr>\n",
       "      <td>6</td>\n",
       "      <td>3996.0</td>\n",
       "    </tr>\n",
       "    <tr>\n",
       "      <td rowspan=\"5\" valign=\"top\">Ages 22-24</td>\n",
       "      <td>1</td>\n",
       "      <td>14152.0</td>\n",
       "    </tr>\n",
       "    <tr>\n",
       "      <td>2</td>\n",
       "      <td>332.0</td>\n",
       "    </tr>\n",
       "    <tr>\n",
       "      <td>3</td>\n",
       "      <td>376.0</td>\n",
       "    </tr>\n",
       "    <tr>\n",
       "      <td>4</td>\n",
       "      <td>117.0</td>\n",
       "    </tr>\n",
       "    <tr>\n",
       "      <td>6</td>\n",
       "      <td>1650.0</td>\n",
       "    </tr>\n",
       "  </tbody>\n",
       "</table>\n",
       "</div>"
      ],
      "text/plain": [
       "                              population\n",
       "age_group  employment_status            \n",
       "Ages 16-18 1                      4805.0\n",
       "           2                        62.0\n",
       "           3                      1246.0\n",
       "           6                     13292.0\n",
       "Ages 19-21 1                      9977.0\n",
       "           2                       452.0\n",
       "           3                       709.0\n",
       "           4                        27.0\n",
       "           6                      3996.0\n",
       "Ages 22-24 1                     14152.0\n",
       "           2                       332.0\n",
       "           3                       376.0\n",
       "           4                       117.0\n",
       "           6                      1650.0"
      ]
     },
     "execution_count": 24,
     "metadata": {},
     "output_type": "execute_result"
    }
   ],
   "source": [
    "# unemployed v not in labor force:\n",
    "kc_esr_mask = (skc_df['is_oy'] == False) & (skc_df['employment_status'].isin(['1','2','3','4', '5','6']))\n",
    "kc_esr_df = skc_df[kc_esr_mask].groupby(['age_group', 'employment_status']).sum().drop(columns = ['age', 'is_oy'])\n",
    "kc_esr_df.rename(columns = {'person_weight': 'population'}, inplace = True)\n",
    "kc_esr_df"
   ]
  },
  {
   "cell_type": "code",
   "execution_count": 25,
   "metadata": {},
   "outputs": [
    {
     "data": {
      "image/png": "[encoded data removed]",
      "text/plain": [
       "<Figure size 720x720 with 3 Axes>"
      ]
     },
     "metadata": {
      "needs_background": "light"
     },
     "output_type": "display_data"
    }
   ],
   "source": [
    "kc_esr_levels = kc_esr_df.index.levels[0]\n",
    "\n",
    "fig, axes= plt.subplots(len(kc_esr_levels), figsize=(10,10))\n",
    "for level, ax in zip(kc_esr_levels, axes):\n",
    "    kc_esr_df.loc[level].plot(kind= 'bar', ax=ax, title=str(level))\n",
    "plt.tight_layout()"
   ]
  },
  {
   "cell_type": "markdown",
   "metadata": {},
   "source": [
    "### Non-OY Unemployed- Available to Work"
   ]
  },
  {
   "cell_type": "code",
   "execution_count": 26,
   "metadata": {},
   "outputs": [
    {
     "data": {
      "text/html": [
       "<div>\n",
       "<style scoped>\n",
       "    .dataframe tbody tr th:only-of-type {\n",
       "        vertical-align: middle;\n",
       "    }\n",
       "\n",
       "    .dataframe tbody tr th {\n",
       "        vertical-align: top;\n",
       "    }\n",
       "\n",
       "    .dataframe thead th {\n",
       "        text-align: right;\n",
       "    }\n",
       "</style>\n",
       "<table border=\"1\" class=\"dataframe\">\n",
       "  <thead>\n",
       "    <tr style=\"text-align: right;\">\n",
       "      <th></th>\n",
       "      <th></th>\n",
       "      <th>population</th>\n",
       "    </tr>\n",
       "    <tr>\n",
       "      <th>age_group</th>\n",
       "      <th>avail_for_work</th>\n",
       "      <th></th>\n",
       "    </tr>\n",
       "  </thead>\n",
       "  <tbody>\n",
       "    <tr>\n",
       "      <td rowspan=\"4\" valign=\"top\">Ages 16-18</td>\n",
       "      <td>1</td>\n",
       "      <td>1258.0</td>\n",
       "    </tr>\n",
       "    <tr>\n",
       "      <td>2</td>\n",
       "      <td>12.0</td>\n",
       "    </tr>\n",
       "    <tr>\n",
       "      <td>3</td>\n",
       "      <td>716.0</td>\n",
       "    </tr>\n",
       "    <tr>\n",
       "      <td>5</td>\n",
       "      <td>17419.0</td>\n",
       "    </tr>\n",
       "    <tr>\n",
       "      <td rowspan=\"3\" valign=\"top\">Ages 19-21</td>\n",
       "      <td>1</td>\n",
       "      <td>831.0</td>\n",
       "    </tr>\n",
       "    <tr>\n",
       "      <td>3</td>\n",
       "      <td>418.0</td>\n",
       "    </tr>\n",
       "    <tr>\n",
       "      <td>5</td>\n",
       "      <td>13912.0</td>\n",
       "    </tr>\n",
       "    <tr>\n",
       "      <td rowspan=\"4\" valign=\"top\">Ages 22-24</td>\n",
       "      <td>1</td>\n",
       "      <td>544.0</td>\n",
       "    </tr>\n",
       "    <tr>\n",
       "      <td>2</td>\n",
       "      <td>15.0</td>\n",
       "    </tr>\n",
       "    <tr>\n",
       "      <td>3</td>\n",
       "      <td>177.0</td>\n",
       "    </tr>\n",
       "    <tr>\n",
       "      <td>5</td>\n",
       "      <td>15891.0</td>\n",
       "    </tr>\n",
       "  </tbody>\n",
       "</table>\n",
       "</div>"
      ],
      "text/plain": [
       "                           population\n",
       "age_group  avail_for_work            \n",
       "Ages 16-18 1                   1258.0\n",
       "           2                     12.0\n",
       "           3                    716.0\n",
       "           5                  17419.0\n",
       "Ages 19-21 1                    831.0\n",
       "           3                    418.0\n",
       "           5                  13912.0\n",
       "Ages 22-24 1                    544.0\n",
       "           2                     15.0\n",
       "           3                    177.0\n",
       "           5                  15891.0"
      ]
     },
     "execution_count": 26,
     "metadata": {},
     "output_type": "execute_result"
    }
   ],
   "source": [
    "# available for work:\n",
    "kc_nwav_mask=(skc_df['is_oy'] ==False) & (skc_df['avail_for_work'].isin(['1', '2', '3', '4', '5']))\n",
    "kc_nwav_df = skc_df[kc_nwav_mask].groupby(['age_group', 'avail_for_work']).sum().drop(columns = ['age', 'is_oy'])\n",
    "kc_nwav_df.rename(columns = {'person_weight': 'population'}, inplace = True)\n",
    "kc_nwav_df"
   ]
  },
  {
   "cell_type": "code",
   "execution_count": 27,
   "metadata": {},
   "outputs": [
    {
     "data": {
      "image/png": "[encoded data removed]",
      "text/plain": [
       "<Figure size 720x720 with 3 Axes>"
      ]
     },
     "metadata": {
      "needs_background": "light"
     },
     "output_type": "display_data"
    }
   ],
   "source": [
    "kc_nwav_levels = kc_nwav_df.index.levels[0]\n",
    "\n",
    "fig, axes= plt.subplots(len(kc_nwav_levels), figsize=(10,10))\n",
    "for level, ax in zip(kc_nwav_levels, axes):\n",
    "    kc_nwav_df.loc[level].plot(kind= 'bar', ax=ax, title=str(level))\n",
    "plt.tight_layout()"
   ]
  },
  {
   "cell_type": "markdown",
   "metadata": {},
   "source": [
    "### Non-OY Unemployed- Looking for Work"
   ]
  },
  {
   "cell_type": "code",
   "execution_count": 28,
   "metadata": {},
   "outputs": [
    {
     "data": {
      "text/html": [
       "<div>\n",
       "<style scoped>\n",
       "    .dataframe tbody tr th:only-of-type {\n",
       "        vertical-align: middle;\n",
       "    }\n",
       "\n",
       "    .dataframe tbody tr th {\n",
       "        vertical-align: top;\n",
       "    }\n",
       "\n",
       "    .dataframe thead th {\n",
       "        text-align: right;\n",
       "    }\n",
       "</style>\n",
       "<table border=\"1\" class=\"dataframe\">\n",
       "  <thead>\n",
       "    <tr style=\"text-align: right;\">\n",
       "      <th></th>\n",
       "      <th></th>\n",
       "      <th>population</th>\n",
       "    </tr>\n",
       "    <tr>\n",
       "      <th>age_group</th>\n",
       "      <th>look_for_work</th>\n",
       "      <th></th>\n",
       "    </tr>\n",
       "  </thead>\n",
       "  <tbody>\n",
       "    <tr>\n",
       "      <td rowspan=\"3\" valign=\"top\">Ages 16-18</td>\n",
       "      <td>1</td>\n",
       "      <td>1116.0</td>\n",
       "    </tr>\n",
       "    <tr>\n",
       "      <td>2</td>\n",
       "      <td>11894.0</td>\n",
       "    </tr>\n",
       "    <tr>\n",
       "      <td>3</td>\n",
       "      <td>6395.0</td>\n",
       "    </tr>\n",
       "    <tr>\n",
       "      <td rowspan=\"3\" valign=\"top\">Ages 19-21</td>\n",
       "      <td>1</td>\n",
       "      <td>895.0</td>\n",
       "    </tr>\n",
       "    <tr>\n",
       "      <td>2</td>\n",
       "      <td>3606.0</td>\n",
       "    </tr>\n",
       "    <tr>\n",
       "      <td>3</td>\n",
       "      <td>10660.0</td>\n",
       "    </tr>\n",
       "    <tr>\n",
       "      <td rowspan=\"3\" valign=\"top\">Ages 22-24</td>\n",
       "      <td>1</td>\n",
       "      <td>510.0</td>\n",
       "    </tr>\n",
       "    <tr>\n",
       "      <td>2</td>\n",
       "      <td>1830.0</td>\n",
       "    </tr>\n",
       "    <tr>\n",
       "      <td>3</td>\n",
       "      <td>14287.0</td>\n",
       "    </tr>\n",
       "  </tbody>\n",
       "</table>\n",
       "</div>"
      ],
      "text/plain": [
       "                          population\n",
       "age_group  look_for_work            \n",
       "Ages 16-18 1                  1116.0\n",
       "           2                 11894.0\n",
       "           3                  6395.0\n",
       "Ages 19-21 1                   895.0\n",
       "           2                  3606.0\n",
       "           3                 10660.0\n",
       "Ages 22-24 1                   510.0\n",
       "           2                  1830.0\n",
       "           3                 14287.0"
      ]
     },
     "execution_count": 28,
     "metadata": {},
     "output_type": "execute_result"
    }
   ],
   "source": [
    "# looking for work:\n",
    "\n",
    "kc_nwlk_mask = (skc_df['is_oy']==False) & (skc_df['look_for_work'].isin(['1', '2', '3']))\n",
    "kc_nwlk_df = skc_df[kc_nwlk_mask].groupby(['age_group', 'look_for_work']).sum().drop(columns = ['age', 'is_oy'])\n",
    "kc_nwlk_df.rename(columns = {'person_weight': 'population'}, inplace = True)\n",
    "kc_nwlk_df"
   ]
  },
  {
   "cell_type": "code",
   "execution_count": 29,
   "metadata": {},
   "outputs": [
    {
     "data": {
      "image/png": "[encoded data removed]",
      "text/plain": [
       "<Figure size 720x720 with 3 Axes>"
      ]
     },
     "metadata": {
      "needs_background": "light"
     },
     "output_type": "display_data"
    }
   ],
   "source": [
    "kc_nwlk_levels = kc_nwlk_df.index.levels[0]\n",
    "\n",
    "fig, axes= plt.subplots(len(kc_nwlk_levels), figsize=(10,10))\n",
    "for level, ax in zip(kc_nwlk_levels, axes):\n",
    "    kc_nwlk_df.loc[level].plot(kind= 'bar', ax=ax, title=str(level))\n",
    "plt.tight_layout()"
   ]
  },
  {
   "cell_type": "markdown",
   "metadata": {},
   "source": [
    "### Non-OY Unemployed- Layoff"
   ]
  },
  {
   "cell_type": "code",
   "execution_count": 30,
   "metadata": {},
   "outputs": [
    {
     "data": {
      "text/html": [
       "<div>\n",
       "<style scoped>\n",
       "    .dataframe tbody tr th:only-of-type {\n",
       "        vertical-align: middle;\n",
       "    }\n",
       "\n",
       "    .dataframe tbody tr th {\n",
       "        vertical-align: top;\n",
       "    }\n",
       "\n",
       "    .dataframe thead th {\n",
       "        text-align: right;\n",
       "    }\n",
       "</style>\n",
       "<table border=\"1\" class=\"dataframe\">\n",
       "  <thead>\n",
       "    <tr style=\"text-align: right;\">\n",
       "      <th></th>\n",
       "      <th></th>\n",
       "      <th>population</th>\n",
       "    </tr>\n",
       "    <tr>\n",
       "      <th>age_group</th>\n",
       "      <th>layoff</th>\n",
       "      <th></th>\n",
       "    </tr>\n",
       "  </thead>\n",
       "  <tbody>\n",
       "    <tr>\n",
       "      <td rowspan=\"3\" valign=\"top\">Ages 16-18</td>\n",
       "      <td>1</td>\n",
       "      <td>115.0</td>\n",
       "    </tr>\n",
       "    <tr>\n",
       "      <td>2</td>\n",
       "      <td>13122.0</td>\n",
       "    </tr>\n",
       "    <tr>\n",
       "      <td>3</td>\n",
       "      <td>6168.0</td>\n",
       "    </tr>\n",
       "    <tr>\n",
       "      <td rowspan=\"3\" valign=\"top\">Ages 19-21</td>\n",
       "      <td>1</td>\n",
       "      <td>16.0</td>\n",
       "    </tr>\n",
       "    <tr>\n",
       "      <td>2</td>\n",
       "      <td>5018.0</td>\n",
       "    </tr>\n",
       "    <tr>\n",
       "      <td>3</td>\n",
       "      <td>10127.0</td>\n",
       "    </tr>\n",
       "    <tr>\n",
       "      <td rowspan=\"3\" valign=\"top\">Ages 22-24</td>\n",
       "      <td>1</td>\n",
       "      <td>44.0</td>\n",
       "    </tr>\n",
       "    <tr>\n",
       "      <td>2</td>\n",
       "      <td>2763.0</td>\n",
       "    </tr>\n",
       "    <tr>\n",
       "      <td>3</td>\n",
       "      <td>13820.0</td>\n",
       "    </tr>\n",
       "  </tbody>\n",
       "</table>\n",
       "</div>"
      ],
      "text/plain": [
       "                   population\n",
       "age_group  layoff            \n",
       "Ages 16-18 1            115.0\n",
       "           2          13122.0\n",
       "           3           6168.0\n",
       "Ages 19-21 1             16.0\n",
       "           2           5018.0\n",
       "           3          10127.0\n",
       "Ages 22-24 1             44.0\n",
       "           2           2763.0\n",
       "           3          13820.0"
      ]
     },
     "execution_count": 30,
     "metadata": {},
     "output_type": "execute_result"
    }
   ],
   "source": [
    "# layoff from work:\n",
    "kc_nwla_mask = (skc_df['is_oy']==False) & (skc_df['layoff'].isin(['1', '2', '3']))\n",
    "kc_nwla_df = skc_df[kc_nwla_mask].groupby(['age_group', 'layoff']).sum().drop(columns = ['age', 'is_oy'])\n",
    "kc_nwla_df.rename(columns = {'person_weight': 'population'}, inplace = True)\n",
    "kc_nwla_df"
   ]
  },
  {
   "cell_type": "code",
   "execution_count": 31,
   "metadata": {},
   "outputs": [
    {
     "data": {
      "image/png": "[encoded data removed]",
      "text/plain": [
       "<Figure size 720x720 with 3 Axes>"
      ]
     },
     "metadata": {
      "needs_background": "light"
     },
     "output_type": "display_data"
    }
   ],
   "source": [
    "kc_nwla_levels = kc_nwla_df.index.levels[0]\n",
    "\n",
    "fig, axes= plt.subplots(len(kc_nwla_levels), figsize=(10,10))\n",
    "for level, ax in zip(kc_nwla_levels, axes):\n",
    "    kc_nwla_df.loc[level].plot(kind= 'bar', ax=ax, title=str(level))\n",
    "plt.tight_layout()"
   ]
  },
  {
   "cell_type": "markdown",
   "metadata": {
    "jupyter": {
     "source_hidden": true
    }
   },
   "source": [
    "**Cells below was my pre-work while I was scratching this out.  Keeping it to keep track of what I've tried.  Can ignore!**"
   ]
  },
  {
   "cell_type": "markdown",
   "metadata": {
    "jupyter": {
     "source_hidden": true
    }
   },
   "source": [
    "Total Population of Ages 16-18 in SKC:"
   ]
  },
  {
   "cell_type": "code",
   "execution_count": 27,
   "metadata": {
    "collapsed": true,
    "jupyter": {
     "outputs_hidden": true,
     "source_hidden": true
    }
   },
   "outputs": [
    {
     "data": {
      "text/plain": [
       "20635.0"
      ]
     },
     "execution_count": 27,
     "metadata": {},
     "output_type": "execute_result"
    }
   ],
   "source": [
    "tot_pop_1618 = skc_df[skc_df['age_group'] == 'Ages 16-18']['person_weight'].sum()\n",
    "tot_pop_1618"
   ]
  },
  {
   "cell_type": "markdown",
   "metadata": {
    "jupyter": {
     "source_hidden": true
    }
   },
   "source": [
    "Total Population of Ages 19-21 in SKC:"
   ]
  },
  {
   "cell_type": "code",
   "execution_count": 6,
   "metadata": {
    "jupyter": {
     "source_hidden": true
    }
   },
   "outputs": [],
   "source": [
    "tot_pop_1921 = skc_df[skc_df['age_group'] == 'Ages 19-21']['person_weight'].sum()"
   ]
  },
  {
   "cell_type": "markdown",
   "metadata": {
    "jupyter": {
     "source_hidden": true
    }
   },
   "source": [
    "Total Population of Ages 22-24 in SKC:"
   ]
  },
  {
   "cell_type": "code",
   "execution_count": 7,
   "metadata": {
    "jupyter": {
     "source_hidden": true
    }
   },
   "outputs": [],
   "source": [
    "tot_pop_2224 = skc_df[skc_df['age_group'] == 'Ages 22-24']['person_weight'].sum()"
   ]
  },
  {
   "cell_type": "markdown",
   "metadata": {
    "jupyter": {
     "source_hidden": true
    }
   },
   "source": [
    "Total Population of Ages 16-24 in SKC:"
   ]
  },
  {
   "cell_type": "code",
   "execution_count": 8,
   "metadata": {
    "jupyter": {
     "source_hidden": true
    }
   },
   "outputs": [],
   "source": [
    "tot_pop_1624 = sum([tot_pop_1618, tot_pop_1921, tot_pop_2224])"
   ]
  },
  {
   "cell_type": "markdown",
   "metadata": {
    "jupyter": {
     "source_hidden": true
    }
   },
   "source": [
    "### Opportunity Youth Row:"
   ]
  },
  {
   "cell_type": "code",
   "execution_count": 9,
   "metadata": {
    "jupyter": {
     "source_hidden": true
    }
   },
   "outputs": [],
   "source": [
    "def create_value_oy(age_group):\n",
    "    \"\"\"\n",
    "    Function returns value (float) needed for statistics table. \n",
    "    age_group (str)\n",
    "    \n",
    "    \"\"\"\n",
    "    return skc_df[(skc_df['age_group'] == age_group) & (skc_df['is_oy'])]['person_weight'].sum()"
   ]
  },
  {
   "cell_type": "code",
   "execution_count": 10,
   "metadata": {
    "jupyter": {
     "source_hidden": true
    }
   },
   "outputs": [],
   "source": [
    "def create_percentage(sub_pop, tot_pop):\n",
    "    \"\"\"\n",
    "    Function returns rounded percentage (float) needed for statistics table.\n",
    "    sub_pop (float) population you're finding the percentage of\n",
    "    tot_pop (float) total population to be in denominator\n",
    "    \"\"\"\n",
    "    return round(sub_pop / tot_pop * 100)"
   ]
  },
  {
   "cell_type": "markdown",
   "metadata": {
    "jupyter": {
     "source_hidden": true
    }
   },
   "source": [
    "Opportunity Youth Population of Ages 16-18 in SKC:"
   ]
  },
  {
   "cell_type": "code",
   "execution_count": 11,
   "metadata": {
    "jupyter": {
     "source_hidden": true
    }
   },
   "outputs": [],
   "source": [
    "oy_pop_1618 = create_value_oy('Ages 16-18')"
   ]
  },
  {
   "cell_type": "markdown",
   "metadata": {
    "jupyter": {
     "source_hidden": true
    }
   },
   "source": [
    "Opportunity Youth Percentage of Ages 16-18 in SKC:"
   ]
  },
  {
   "cell_type": "code",
   "execution_count": 12,
   "metadata": {
    "jupyter": {
     "source_hidden": true
    }
   },
   "outputs": [],
   "source": [
    "oy_pcent_1618 = create_percentage(oy_pop_1618, tot_pop_1618)"
   ]
  },
  {
   "cell_type": "markdown",
   "metadata": {
    "jupyter": {
     "source_hidden": true
    }
   },
   "source": [
    "Opportunity Youth Population of Ages 19-21 in SKC:"
   ]
  },
  {
   "cell_type": "code",
   "execution_count": 13,
   "metadata": {
    "jupyter": {
     "source_hidden": true
    }
   },
   "outputs": [],
   "source": [
    "oy_pop_1921 = create_value_oy('Ages 19-21')"
   ]
  },
  {
   "cell_type": "markdown",
   "metadata": {
    "jupyter": {
     "source_hidden": true
    }
   },
   "source": [
    "Opportunity Youth Percentage of Ages 19-21 in SKC:"
   ]
  },
  {
   "cell_type": "code",
   "execution_count": 14,
   "metadata": {
    "jupyter": {
     "source_hidden": true
    }
   },
   "outputs": [],
   "source": [
    "oy_pcent_1921 = create_percentage(oy_pop_1921, tot_pop_1921)"
   ]
  },
  {
   "cell_type": "markdown",
   "metadata": {
    "jupyter": {
     "source_hidden": true
    }
   },
   "source": [
    "Opportunity Youth Population of Ages 22-24 in SKC:"
   ]
  },
  {
   "cell_type": "code",
   "execution_count": 15,
   "metadata": {
    "jupyter": {
     "source_hidden": true
    }
   },
   "outputs": [],
   "source": [
    "oy_pop_2224 = create_value_oy('Ages 22-24')"
   ]
  },
  {
   "cell_type": "markdown",
   "metadata": {
    "jupyter": {
     "source_hidden": true
    }
   },
   "source": [
    "Opportunity Youth Percentage of Ages 22-24 in SKC:"
   ]
  },
  {
   "cell_type": "code",
   "execution_count": 16,
   "metadata": {
    "jupyter": {
     "source_hidden": true
    }
   },
   "outputs": [],
   "source": [
    "oy_pcent_2224 = create_percentage(oy_pop_2224, tot_pop_2224)"
   ]
  },
  {
   "cell_type": "markdown",
   "metadata": {
    "jupyter": {
     "source_hidden": true
    }
   },
   "source": [
    "Total Opportunity Youth Population of Ages 16-24 in SKC:"
   ]
  },
  {
   "cell_type": "code",
   "execution_count": 17,
   "metadata": {
    "jupyter": {
     "source_hidden": true
    }
   },
   "outputs": [],
   "source": [
    "oy_tot_pop_1624 = sum([oy_pop_1618, oy_pop_1921, oy_pop_2224])"
   ]
  },
  {
   "cell_type": "markdown",
   "metadata": {
    "jupyter": {
     "source_hidden": true
    }
   },
   "source": [
    "### Working without diploma row:"
   ]
  },
  {
   "cell_type": "code",
   "execution_count": 18,
   "metadata": {
    "jupyter": {
     "source_hidden": true
    }
   },
   "outputs": [],
   "source": [
    "work_wo_dip = skc_df[(skc_df['employment_status'].isin(['1', '2', '4', '5'])) & (skc_df['education_attained'] == '15')].groupby(['age_group']).sum().drop(columns = ['age', 'is_oy'])"
   ]
  },
  {
   "cell_type": "code",
   "execution_count": 19,
   "metadata": {
    "collapsed": true,
    "jupyter": {
     "outputs_hidden": true,
     "source_hidden": true
    }
   },
   "outputs": [
    {
     "data": {
      "text/html": [
       "<div>\n",
       "<style scoped>\n",
       "    .dataframe tbody tr th:only-of-type {\n",
       "        vertical-align: middle;\n",
       "    }\n",
       "\n",
       "    .dataframe tbody tr th {\n",
       "        vertical-align: top;\n",
       "    }\n",
       "\n",
       "    .dataframe thead th {\n",
       "        text-align: right;\n",
       "    }\n",
       "</style>\n",
       "<table border=\"1\" class=\"dataframe\">\n",
       "  <thead>\n",
       "    <tr style=\"text-align: right;\">\n",
       "      <th></th>\n",
       "      <th>person_weight</th>\n",
       "    </tr>\n",
       "    <tr>\n",
       "      <th>age_group</th>\n",
       "      <th></th>\n",
       "    </tr>\n",
       "  </thead>\n",
       "  <tbody>\n",
       "    <tr>\n",
       "      <th>Ages 16-18</th>\n",
       "      <td>194.0</td>\n",
       "    </tr>\n",
       "    <tr>\n",
       "      <th>Ages 19-21</th>\n",
       "      <td>278.0</td>\n",
       "    </tr>\n",
       "    <tr>\n",
       "      <th>Ages 22-24</th>\n",
       "      <td>373.0</td>\n",
       "    </tr>\n",
       "  </tbody>\n",
       "</table>\n",
       "</div>"
      ],
      "text/plain": [
       "            person_weight\n",
       "age_group                \n",
       "Ages 16-18          194.0\n",
       "Ages 19-21          278.0\n",
       "Ages 22-24          373.0"
      ]
     },
     "execution_count": 19,
     "metadata": {},
     "output_type": "execute_result"
    }
   ],
   "source": [
    "work_wo_dip"
   ]
  },
  {
   "cell_type": "code",
   "execution_count": 20,
   "metadata": {
    "jupyter": {
     "source_hidden": true
    }
   },
   "outputs": [],
   "source": [
    "work_wo_dip.rename(columns = {'person_weight': 'count'}, inplace = True)"
   ]
  },
  {
   "cell_type": "code",
   "execution_count": 23,
   "metadata": {
    "jupyter": {
     "source_hidden": true
    }
   },
   "outputs": [],
   "source": [
    "work_wo_dip['percentage'] = round(work_wo_dip['count'] / tot_pop_1618 * 100)\n",
    "work_wo_dip"
   ]
  },
  {
   "cell_type": "code",
   "execution_count": 24,
   "metadata": {
    "collapsed": true,
    "jupyter": {
     "outputs_hidden": true,
     "source_hidden": true
    }
   },
   "outputs": [
    {
     "data": {
      "text/html": [
       "<div>\n",
       "<style scoped>\n",
       "    .dataframe tbody tr th:only-of-type {\n",
       "        vertical-align: middle;\n",
       "    }\n",
       "\n",
       "    .dataframe tbody tr th {\n",
       "        vertical-align: top;\n",
       "    }\n",
       "\n",
       "    .dataframe thead th {\n",
       "        text-align: right;\n",
       "    }\n",
       "</style>\n",
       "<table border=\"1\" class=\"dataframe\">\n",
       "  <thead>\n",
       "    <tr style=\"text-align: right;\">\n",
       "      <th></th>\n",
       "      <th>count</th>\n",
       "      <th>percentage</th>\n",
       "    </tr>\n",
       "    <tr>\n",
       "      <th>age_group</th>\n",
       "      <th></th>\n",
       "      <th></th>\n",
       "    </tr>\n",
       "  </thead>\n",
       "  <tbody>\n",
       "    <tr>\n",
       "      <th>Ages 16-18</th>\n",
       "      <td>194.0</td>\n",
       "      <td>1.0</td>\n",
       "    </tr>\n",
       "    <tr>\n",
       "      <th>Ages 19-21</th>\n",
       "      <td>278.0</td>\n",
       "      <td>1.0</td>\n",
       "    </tr>\n",
       "    <tr>\n",
       "      <th>Ages 22-24</th>\n",
       "      <td>373.0</td>\n",
       "      <td>2.0</td>\n",
       "    </tr>\n",
       "  </tbody>\n",
       "</table>\n",
       "</div>"
      ],
      "text/plain": [
       "            count  percentage\n",
       "age_group                    \n",
       "Ages 16-18  194.0         1.0\n",
       "Ages 19-21  278.0         1.0\n",
       "Ages 22-24  373.0         2.0"
      ]
     },
     "execution_count": 24,
     "metadata": {},
     "output_type": "execute_result"
    }
   ],
   "source": [
    "work_wo_dip"
   ]
  },
  {
   "attachments": {
    "723a2d82-dd9c-4658-abfd-f39b1014e33a.png": {
     "image/png": "[encoded data removed]"
    }
   },
   "cell_type": "markdown",
   "metadata": {},
   "source": [
    "![image.png](attachment:723a2d82-dd9c-4658-abfd-f39b1014e33a.png)"
   ]
  },
  {
   "cell_type": "code",
   "execution_count": null,
   "metadata": {},
   "outputs": [],
   "source": []
  }
 ],
 "metadata": {
  "kernelspec": {
   "display_name": "Python 3 (oy-env)",
   "language": "python",
   "name": "oy-env"
  },
  "language_info": {
   "codemirror_mode": {
    "name": "ipython",
    "version": 3
   },
   "file_extension": ".py",
   "mimetype": "text/x-python",
   "name": "python",
   "nbconvert_exporter": "python",
   "pygments_lexer": "ipython3",
   "version": "3.8.1"
  }
 },
 "nbformat": 4,
 "nbformat_minor": 4
}
