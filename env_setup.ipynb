{
 "cells": [
  {
   "cell_type": "markdown",
   "metadata": {},
   "source": [
    "### `oy-env` conda Environment\n",
    "\n",
    "This project relies on you using the [`environment.yml`](environment.yml) file to recreate the `oy-env` conda environment. To do so, please run the following commands *in your terminal*:\n",
    "\n",
    "```bash\n",
    "# create the oy-env conda environment\n",
    "conda env create -f environment.yml\n",
    "\n",
    "# activate the oy-env conda environment\n",
    "conda activate oy-env\n",
    "\n",
    "# if needed, make oy-env available to you as a kernel in jupyter\n",
    "python -m ipykernel install --user --name oy-env --display-name \"Python 3 (oy-env)\"\n",
    "```\n",
    "\n",
    "Note that this may take 10 or more minutes depending on internet speed.\n",
    "\n",
    "**Windows Note:** The same versions of these packages are not available for Windows computers, so all Windows users should use the `windows.yml` file instead of `environment.yml` (this file was generated on Windows 10)\n",
    "\n",
    "**Linux Note:** The same versions of these packages are not available for Linux computers, so all Linux users should use the `linux.yml` file instead of `environment.yml` (this file was generated on Red Hat)\n",
    "\n",
    "**Catalina Note:** You may need to modify the `prefix` at the very bottom of `environment.yml` if you are on macOS Catalina.  Run `conda env list` in your terminal to determine the appropriate path by looking at the paths of your existing conda environment(s).  Modify `environment.yml` then try running the installation commands listed above again.\n",
    "\n",
    "On all operating systems, you will know that you have the required software if the following Bash commands do not return error or \"not found\" messages:\n",
    "```bash\n",
    "which conda\n",
    "conda list geopandas\n",
    "which psql\n",
    "```"
   ]
  },
  {
   "cell_type": "code",
   "execution_count": null,
   "metadata": {},
   "outputs": [],
   "source": []
  }
 ],
 "metadata": {
  "kernelspec": {
   "display_name": "Python 3 (oy-env)",
   "language": "python",
   "name": "oy-env"
  },
  "language_info": {
   "codemirror_mode": {
    "name": "ipython",
    "version": 3
   },
   "file_extension": ".py",
   "mimetype": "text/x-python",
   "name": "python",
   "nbconvert_exporter": "python",
   "pygments_lexer": "ipython3",
   "version": "3.7.4"
  }
 },
 "nbformat": 4,
 "nbformat_minor": 4
}
